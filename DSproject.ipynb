{
 "cells": [
  {
   "cell_type": "markdown",
   "metadata": {},
   "source": [
    "# ANALYSIS ON THE IMPACT OF LOCKDOWN ON THE AIR QUALITY"
   ]
  },
  {
   "cell_type": "markdown",
   "metadata": {},
   "source": [
    "Our lives, as we probably are aware,have grounded to a halt in the course of the most recent few months. The pandemic has diminished the greater part of our exercises and constrained us inside our own homes. While the entire circumstance, right now, appears to be somewhat depressing, but, all isn't lost. It has been ascertained that the absence of human collaboration with the outside world has prompted a positive effect on the earth. There have been reports of bluer skies, blossoming greenery and animals returning back to their natural surroundings."
   ]
  },
  {
   "cell_type": "markdown",
   "metadata": {},
   "source": [
    "## SUMMARY\n",
    "\n",
    "   * INTRODUCING THE DATASET\n",
    "    * Data extraction from relevant data sources\n",
    "    * Exporting all .csv files into a single file\n",
    "    * Defining variables\n",
    "    \n",
    "    \n",
    "   * VISUALIZATION OF DATASET\n",
    "    * Prelockdown : NO2, PM2.5, PM10 graphs\n",
    "    * Postlockdown : NO2, PM2.5, PM10 graphs\n",
    "    * Timeline Graphs\n",
    "    * Correlations Matrices\n",
    "    * HeatMaps\n",
    "\n",
    "\n",
    "   * BUILDING MODELS\n",
    "    * Multiple Linear Regression Analysis\n",
    "        * with combined features\n",
    "        * with indiviual features\n",
    "    * Arima Model\n",
    "\n",
    "\n",
    "   * MODEL PREDICTIONS\n",
    "    * Model Accuracy Scores (both Pre and Post Lockdowns)\n",
    "    * Air Quality Level Predictions\n",
    "\n",
    "\n",
    "   * CONCLUSIONS\n",
    "    "
   ]
  },
  {
   "cell_type": "markdown",
   "metadata": {},
   "source": [
    "**Importing all Libraries**"
   ]
  },
  {
   "cell_type": "code",
   "execution_count": 1,
   "metadata": {},
   "outputs": [],
   "source": [
    "import pandas as pd\n",
    "import seaborn as sns\n",
    "from sklearn.model_selection import train_test_split\n",
    "from sklearn import linear_model\n",
    "from sklearn.metrics import r2_score\n",
    "from sklearn.metrics import accuracy_score\n",
    "from sklearn.metrics import classification_report\n",
    "from sklearn.linear_model import LinearRegression\n",
    "from matplotlib import pyplot as plt\n",
    "import numpy as np\n",
    "import scipy.stats as sp\n",
    "import datetime as dt\n",
    "import warnings\n",
    "warnings.filterwarnings('ignore')"
   ]
  },
  {
   "cell_type": "markdown",
   "metadata": {},
   "source": [
    "### INTRODUCING THE DATASET\n",
    "\n",
    "The dataset has been taken from Europeon Environment Agency [Website](https://discomap.eea.europa.eu/Index//). We have extracted weekly data, indiviually, for particulate matter i.e. NO2, PM2.5 and PM10 for the year 2018, 2019 and 2020.<br/>\n",
    "Since, the analysis is aimed only on the Eurpeon Countries which are affected the most, therefore, a total of 45 .csv files were extracted for 15 countries (each containing particular Air Pollutant data).<br/>\n",
    "These .csv files are combined in a single source of file using python code for our use for the analysis.\n"
   ]
  },
  {
   "cell_type": "code",
   "execution_count": 2,
   "metadata": {},
   "outputs": [],
   "source": [
    "pn=pd.read_csv('files/All_Data.csv')"
   ]
  },
  {
   "cell_type": "code",
   "execution_count": 3,
   "metadata": {
    "scrolled": true
   },
   "outputs": [
    {
     "data": {
      "text/html": [
       "<div>\n",
       "<style scoped>\n",
       "    .dataframe tbody tr th:only-of-type {\n",
       "        vertical-align: middle;\n",
       "    }\n",
       "\n",
       "    .dataframe tbody tr th {\n",
       "        vertical-align: top;\n",
       "    }\n",
       "\n",
       "    .dataframe thead th {\n",
       "        text-align: right;\n",
       "    }\n",
       "</style>\n",
       "<table border=\"1\" class=\"dataframe\">\n",
       "  <thead>\n",
       "    <tr style=\"text-align: right;\">\n",
       "      <th></th>\n",
       "      <th>AirPollutant</th>\n",
       "      <th>AirQualityLevel</th>\n",
       "      <th>FilterStation</th>\n",
       "      <th>Country</th>\n",
       "      <th>TypeOfMeasurementStation</th>\n",
       "      <th>City</th>\n",
       "      <th>datebegin</th>\n",
       "      <th>validity_notation</th>\n",
       "    </tr>\n",
       "  </thead>\n",
       "  <tbody>\n",
       "    <tr>\n",
       "      <th>0</th>\n",
       "      <td>PM10</td>\n",
       "      <td>31.6</td>\n",
       "      <td>1</td>\n",
       "      <td>Denmark</td>\n",
       "      <td>background</td>\n",
       "      <td>København</td>\n",
       "      <td>1/1/2018</td>\n",
       "      <td>1</td>\n",
       "    </tr>\n",
       "    <tr>\n",
       "      <th>1</th>\n",
       "      <td>PM10</td>\n",
       "      <td>16.7</td>\n",
       "      <td>1</td>\n",
       "      <td>Denmark</td>\n",
       "      <td>background</td>\n",
       "      <td>København</td>\n",
       "      <td>1/2/2018</td>\n",
       "      <td>1</td>\n",
       "    </tr>\n",
       "    <tr>\n",
       "      <th>2</th>\n",
       "      <td>PM10</td>\n",
       "      <td>11.2</td>\n",
       "      <td>1</td>\n",
       "      <td>Denmark</td>\n",
       "      <td>background</td>\n",
       "      <td>København</td>\n",
       "      <td>1/3/2018</td>\n",
       "      <td>1</td>\n",
       "    </tr>\n",
       "    <tr>\n",
       "      <th>3</th>\n",
       "      <td>PM10</td>\n",
       "      <td>8.5</td>\n",
       "      <td>1</td>\n",
       "      <td>Denmark</td>\n",
       "      <td>background</td>\n",
       "      <td>København</td>\n",
       "      <td>1/4/2018</td>\n",
       "      <td>1</td>\n",
       "    </tr>\n",
       "    <tr>\n",
       "      <th>4</th>\n",
       "      <td>PM10</td>\n",
       "      <td>6.4</td>\n",
       "      <td>1</td>\n",
       "      <td>Denmark</td>\n",
       "      <td>background</td>\n",
       "      <td>København</td>\n",
       "      <td>1/5/2018</td>\n",
       "      <td>1</td>\n",
       "    </tr>\n",
       "    <tr>\n",
       "      <th>...</th>\n",
       "      <td>...</td>\n",
       "      <td>...</td>\n",
       "      <td>...</td>\n",
       "      <td>...</td>\n",
       "      <td>...</td>\n",
       "      <td>...</td>\n",
       "      <td>...</td>\n",
       "      <td>...</td>\n",
       "    </tr>\n",
       "    <tr>\n",
       "      <th>296228</th>\n",
       "      <td>PM2.5</td>\n",
       "      <td>4.5</td>\n",
       "      <td>1</td>\n",
       "      <td>United Kingdom</td>\n",
       "      <td>traffic</td>\n",
       "      <td>London</td>\n",
       "      <td>23/05/2020</td>\n",
       "      <td>1</td>\n",
       "    </tr>\n",
       "    <tr>\n",
       "      <th>296229</th>\n",
       "      <td>PM2.5</td>\n",
       "      <td>5.0</td>\n",
       "      <td>1</td>\n",
       "      <td>United Kingdom</td>\n",
       "      <td>traffic</td>\n",
       "      <td>London</td>\n",
       "      <td>24/05/2020</td>\n",
       "      <td>1</td>\n",
       "    </tr>\n",
       "    <tr>\n",
       "      <th>296230</th>\n",
       "      <td>PM2.5</td>\n",
       "      <td>6.6</td>\n",
       "      <td>1</td>\n",
       "      <td>United Kingdom</td>\n",
       "      <td>traffic</td>\n",
       "      <td>London</td>\n",
       "      <td>27/05/2020</td>\n",
       "      <td>1</td>\n",
       "    </tr>\n",
       "    <tr>\n",
       "      <th>296231</th>\n",
       "      <td>PM2.5</td>\n",
       "      <td>5.7</td>\n",
       "      <td>1</td>\n",
       "      <td>United Kingdom</td>\n",
       "      <td>traffic</td>\n",
       "      <td>London</td>\n",
       "      <td>31/05/2020</td>\n",
       "      <td>1</td>\n",
       "    </tr>\n",
       "    <tr>\n",
       "      <th>296232</th>\n",
       "      <td>PM2.5</td>\n",
       "      <td>1.7</td>\n",
       "      <td>1</td>\n",
       "      <td>United Kingdom</td>\n",
       "      <td>background</td>\n",
       "      <td>London</td>\n",
       "      <td>28/01/2018</td>\n",
       "      <td>2</td>\n",
       "    </tr>\n",
       "  </tbody>\n",
       "</table>\n",
       "<p>296233 rows × 8 columns</p>\n",
       "</div>"
      ],
      "text/plain": [
       "       AirPollutant  AirQualityLevel  FilterStation         Country  \\\n",
       "0              PM10             31.6              1         Denmark   \n",
       "1              PM10             16.7              1         Denmark   \n",
       "2              PM10             11.2              1         Denmark   \n",
       "3              PM10              8.5              1         Denmark   \n",
       "4              PM10              6.4              1         Denmark   \n",
       "...             ...              ...            ...             ...   \n",
       "296228        PM2.5              4.5              1  United Kingdom   \n",
       "296229        PM2.5              5.0              1  United Kingdom   \n",
       "296230        PM2.5              6.6              1  United Kingdom   \n",
       "296231        PM2.5              5.7              1  United Kingdom   \n",
       "296232        PM2.5              1.7              1  United Kingdom   \n",
       "\n",
       "       TypeOfMeasurementStation       City   datebegin  validity_notation  \n",
       "0                    background  København    1/1/2018                  1  \n",
       "1                    background  København    1/2/2018                  1  \n",
       "2                    background  København    1/3/2018                  1  \n",
       "3                    background  København    1/4/2018                  1  \n",
       "4                    background  København    1/5/2018                  1  \n",
       "...                         ...        ...         ...                ...  \n",
       "296228                  traffic     London  23/05/2020                  1  \n",
       "296229                  traffic     London  24/05/2020                  1  \n",
       "296230                  traffic     London  27/05/2020                  1  \n",
       "296231                  traffic     London  31/05/2020                  1  \n",
       "296232               background     London  28/01/2018                  2  \n",
       "\n",
       "[296233 rows x 8 columns]"
      ]
     },
     "execution_count": 3,
     "metadata": {},
     "output_type": "execute_result"
    }
   ],
   "source": [
    "pn"
   ]
  },
  {
   "cell_type": "markdown",
   "metadata": {},
   "source": [
    "### Explaination of the DataSet\n",
    "**AirPollutant:** Our key parameter for the analysis. These are the categories namely NO2, PM2.5 and PM10<br/>\n",
    "**AirQualityLevel:** The value of the Air Quality Index signifies the high pollution for higher values and vice versa<br/>\n",
    "**TypeOfMeasurementStation:** The data recorded center at which the values were recorded and stored<br/>\n",
    "**City:** The data of a particular country is actually the data recorded for its Capital City only<br/>\n",
    "**FilterStation:** It refers to the number of stations from which the data was recorded from<br/>"
   ]
  },
  {
   "cell_type": "markdown",
   "metadata": {},
   "source": [
    "### Segregation of the DataSet\n",
    "In order to begin with our analysis, we have done the following segregations:\n",
    "1. We will first partition our dataset into 3 different years i.e. for 2018, 2019 and 2020\n",
    "2. Data will be further segregated into pre and post lockdown periods \n",
    "3. Once the above partitioning is done, dataset will be segregated further for each particulate matter namely NO2, PM2.5 and PM10"
   ]
  },
  {
   "cell_type": "code",
   "execution_count": 4,
   "metadata": {},
   "outputs": [],
   "source": [
    "postlockdown = pn[pn.datebegin.str.contains('2020')]\n",
    "prelockdown19 = pn[pn.datebegin.str.contains('2019')]\n",
    "prelockdown18=pn[pn.datebegin.str.contains('2018')]\n",
    "prelockdown = pd.concat([prelockdown18, prelockdown19])"
   ]
  },
  {
   "cell_type": "code",
   "execution_count": 5,
   "metadata": {},
   "outputs": [],
   "source": [
    "postlockdownno2=postlockdown[postlockdown.AirPollutant=='NO2']\n",
    "prelockdownno2=prelockdown[prelockdown.AirPollutant=='NO2']\n",
    "postlockdownpm10=postlockdown[postlockdown.AirPollutant=='PM10']\n",
    "prelockdownpm10=prelockdown[prelockdown.AirPollutant=='PM10']\n",
    "postlockdownpm25=postlockdown[postlockdown.AirPollutant=='PM2.5']\n",
    "prelockdownpm25=prelockdown[prelockdown.AirPollutant=='PM2.5']"
   ]
  },
  {
   "cell_type": "code",
   "execution_count": 6,
   "metadata": {},
   "outputs": [
    {
     "name": "stdout",
     "output_type": "stream",
     "text": [
      "Country\n",
      "Finland           13.641065\n",
      "Ireland           14.851359\n",
      "Denmark           15.705167\n",
      "Austria           19.683247\n",
      "Belgium           19.780475\n",
      "Switzerland       21.408387\n",
      "Portugal          21.778737\n",
      "Netherlands       22.253719\n",
      "Italy             24.681245\n",
      "Germany           25.446716\n",
      "United Kingdom    26.030289\n",
      "Spain             27.744163\n",
      "France            28.577501\n",
      "Poland            35.369398\n",
      "Name: AirQualityLevel, dtype: float64\n"
     ]
    }
   ],
   "source": [
    "postseries=postlockdownno2.groupby(pd.Grouper(key='Country')).AirQualityLevel.mean().sort_values()\n",
    "preseries=prelockdownno2.groupby(pd.Grouper(key='Country')).AirQualityLevel.mean().sort_values()\n",
    "print(postseries)"
   ]
  },
  {
   "cell_type": "markdown",
   "metadata": {},
   "source": [
    "### GRAPHICAL EXPLORATION OF DATASET"
   ]
  },
  {
   "cell_type": "markdown",
   "metadata": {},
   "source": [
    "The following graphical representation is an attempt to visualize the levels of Air Quality in terms of NO2, PM2.5 and PM10 for major Europeon Countries. \n",
    "1. Bar Graphs have been plotted for 15 top affected countries (Pre Lockdown and During Lockdown)\n",
    "2. Comparison of top 3 countries have been plotted using bar graphs in order to show how the levels of Air Quality has increased due to Lockdown"
   ]
  },
  {
   "cell_type": "markdown",
   "metadata": {},
   "source": [
    "### NO2 Levels - Comparison of Pre and During Lockdown"
   ]
  },
  {
   "cell_type": "code",
   "execution_count": 7,
   "metadata": {},
   "outputs": [],
   "source": [
    "\n",
    "data = {\n",
    "        \"Country\":postseries.index,\n",
    "        \"No2 Gas Avg Level\":postseries\n",
    "        }\n",
    "da = pd.DataFrame(data, columns = [ 'Country','No2 Gas Avg Level'])"
   ]
  },
  {
   "cell_type": "code",
   "execution_count": 8,
   "metadata": {},
   "outputs": [
    {
     "data": {
      "image/png": "[encoded data removed]",
      "text/plain": [
       "<Figure size 1080x576 with 1 Axes>"
      ]
     },
     "metadata": {
      "needs_background": "light"
     },
     "output_type": "display_data"
    }
   ],
   "source": [
    "plt.figure(figsize=(15,8))\n",
    "ax = sns.barplot(x=\"Country\", y=\"No2 Gas Avg Level\", data=da)\n",
    "ax.set_title('During Lockdown NO2',fontsize=15)\n",
    "b=ax.get_xticklabels()\n",
    "ax.set_xticklabels(b,rotation=90)\n",
    "plt.show()"
   ]
  },
  {
   "cell_type": "markdown",
   "metadata": {},
   "source": [
    "From the above graph we can clearly observe that during lockdown:\n",
    "\n",
    "**35 $\\mu g / m^3$ and above: Poland** is at the top of the list in NO2 concentration observing level at **35 $\\mu g / m^3$** \n",
    "\n",
    "**Between 25 $\\mu g/ m^3$ to 35 $\\mu g / m^3$:** Top Europeon economic countries namely **France**, **Spain**, **United Kingdom**, **Germany** and **Italy** which are the most affected countries due to CoVid-19 falls under these ranges of No2 Air Quality Levels\n",
    "\n",
    "**Between 20 $\\mu g/ m^3$ to 25 $\\mu g / m^3$:** In this range, countries like **Netherlands**, **Portugal**, **Swizerland**, **Belgium** and **Austria** are observed\n",
    "\n",
    "**Below 20 $\\mu g/ m^3$:** Lastly, **Denmark**, **Ireland** and **Finland** are being observed in the last 3 respective places \n",
    "\n"
   ]
  },
  {
   "cell_type": "code",
   "execution_count": 9,
   "metadata": {},
   "outputs": [],
   "source": [
    "data = {\n",
    "        \"Country\":preseries.index,\n",
    "        \"No2 Gas Avg Level\":preseries\n",
    "        }\n",
    "da = pd.DataFrame(data, columns = [ 'Country','No2 Gas Avg Level'])"
   ]
  },
  {
   "cell_type": "code",
   "execution_count": 10,
   "metadata": {},
   "outputs": [
    {
     "name": "stdout",
     "output_type": "stream",
     "text": [
      "Country\n",
      "Finland           20.542016\n",
      "Denmark           21.387247\n",
      "Ireland           22.120585\n",
      "Austria           22.714234\n",
      "Switzerland       23.307381\n",
      "Portugal          26.132108\n",
      "Belgium           29.947115\n",
      "Germany           31.099391\n",
      "Netherlands       31.478909\n",
      "Spain             35.279890\n",
      "United Kingdom    35.972445\n",
      "Italy             38.809293\n",
      "France            39.387596\n",
      "Poland            39.634133\n",
      "Name: AirQualityLevel, dtype: float64\n"
     ]
    },
    {
     "data": {
      "image/png": "[encoded data removed]",
      "text/plain": [
       "<Figure size 1080x576 with 1 Axes>"
      ]
     },
     "metadata": {
      "needs_background": "light"
     },
     "output_type": "display_data"
    }
   ],
   "source": [
    "plt.figure(figsize=(15,8))\n",
    "ax = sns.barplot(x=\"Country\", y=\"No2 Gas Avg Level\", data=da)\n",
    "ax.set_title('Pre Lockdown NO2',fontsize=15)\n",
    "b=ax.get_xticklabels()\n",
    "ax.set_xticklabels(b,rotation=90)\n",
    "print(preseries)\n",
    "plt.show()"
   ]
  },
  {
   "cell_type": "markdown",
   "metadata": {},
   "source": [
    "From the above graph, the levels, recorded for NO2 before lockdown, were highers for each country. The following graph will present the comparison better.\n",
    "\n",
    "This complements our claim that the Lockdown has brought a positive impact of the Air Quality Index"
   ]
  },
  {
   "cell_type": "markdown",
   "metadata": {},
   "source": [
    "### NO2 Level - Comparison of Countries (Pre Vs During Lockdown) "
   ]
  },
  {
   "cell_type": "code",
   "execution_count": 11,
   "metadata": {},
   "outputs": [],
   "source": [
    "PostPreGraph=[]\n",
    "PostPreIndex=['Pre Locdown France','During LockDown France','Pre Locdown Germany','During LockDown Germany','Pre Locdown Italy','During LockDown Italy']\n",
    "PostPreGraph.append(preseries['France'])\n",
    "PostPreGraph.append(postseries['France'])\n",
    "PostPreGraph.append(preseries['Germany'])\n",
    "PostPreGraph.append(postseries['Germany'])\n",
    "PostPreGraph.append(preseries['Italy'])\n",
    "PostPreGraph.append(postseries['Italy'])\n",
    "PostPreGraph\n",
    "data = {\n",
    "        \"Condition\":PostPreIndex,\n",
    "        \"No2 Gas Avg Level\":PostPreGraph\n",
    "        }\n",
    "da = pd.DataFrame(data, columns = [ 'Condition','No2 Gas Avg Level'])\n"
   ]
  },
  {
   "cell_type": "code",
   "execution_count": 12,
   "metadata": {},
   "outputs": [
    {
     "data": {
      "image/png": "[encoded data removed]",
      "text/plain": [
       "<Figure size 1080x576 with 1 Axes>"
      ]
     },
     "metadata": {
      "needs_background": "light"
     },
     "output_type": "display_data"
    }
   ],
   "source": [
    "plt.figure(figsize=(15,8))\n",
    "ax = sns.barplot(x=\"Condition\", y=\"No2 Gas Avg Level\", data=da)\n",
    "ax.set_title(' Comparison for Countries - NO2')\n",
    "b=ax.get_xticklabels()\n",
    "ax.set_xticklabels(b,rotation=45)\n",
    "plt.show()"
   ]
  },
  {
   "cell_type": "markdown",
   "metadata": {},
   "source": [
    "From the above graph, we can clearly see a significant drop in the NO2 concentration levels:\n",
    "\n",
    "**France:**<br/>\n",
    "**Pre-lockdown:** 39.38 $\\mu g/ m^3$ as compared to **Post-lockdown:** 28.57 $\\mu g/ m^3$\n",
    "\n",
    "**Germany:**<br/>\n",
    "**Pre-lockdown:** 31.09 $\\mu g/ m^3$ as compared to **Post-lockdown:** 25.44 $\\mu g/ m^3$\n",
    "\n",
    "**Italy:**<br/>\n",
    "**Pre-lockdown:** 38.80 $\\mu g/ m^3$ as compared to **Post-lockdown:** 24.68 $\\mu g/ m^3$"
   ]
  },
  {
   "cell_type": "markdown",
   "metadata": {},
   "source": [
    "### PM10 Levels - Comparison of Pre and During Lockdown"
   ]
  },
  {
   "cell_type": "code",
   "execution_count": 13,
   "metadata": {},
   "outputs": [],
   "source": [
    "postseriespm10=postlockdownpm10.groupby(pd.Grouper(key='Country')).AirQualityLevel.mean().sort_values()\n",
    "preseriespm10=prelockdownpm10.groupby(pd.Grouper(key='Country')).AirQualityLevel.mean().sort_values()"
   ]
  },
  {
   "cell_type": "code",
   "execution_count": 14,
   "metadata": {},
   "outputs": [],
   "source": [
    "data = {\n",
    "        \"Country\":postseriespm10.index,\n",
    "        \"PM10 Gas Avg Level\":postseriespm10\n",
    "        }\n",
    "da = pd.DataFrame(data, columns = [ 'Country','PM10 Gas Avg Level'])"
   ]
  },
  {
   "cell_type": "code",
   "execution_count": 15,
   "metadata": {},
   "outputs": [
    {
     "name": "stdout",
     "output_type": "stream",
     "text": [
      "Country\n",
      "Ireland           13.118291\n",
      "Finland           14.632713\n",
      "Switzerland       15.973163\n",
      "Belgium           16.161639\n",
      "United Kingdom    16.210363\n",
      "Spain             16.532985\n",
      "Sweden            17.782472\n",
      "Germany           18.057977\n",
      "Netherlands       18.460976\n",
      "France            18.848973\n",
      "Portugal          19.275367\n",
      "Denmark           20.871154\n",
      "Italy             23.220820\n",
      "Poland            34.800000\n",
      "Name: AirQualityLevel, dtype: float64\n"
     ]
    },
    {
     "data": {
      "image/png": "[encoded data removed]",
      "text/plain": [
       "<Figure size 1080x576 with 1 Axes>"
      ]
     },
     "metadata": {
      "needs_background": "light"
     },
     "output_type": "display_data"
    }
   ],
   "source": [
    "plt.figure(figsize=(15,8))\n",
    "ax = sns.barplot(x=\"Country\", y=\"PM10 Gas Avg Level\", data=da)\n",
    "ax.set_title('During Lockdown PM10')\n",
    "b=ax.get_xticklabels()\n",
    "ax.set_xticklabels(b,rotation=45)\n",
    "print(postseriespm10)\n",
    "plt.show()"
   ]
  },
  {
   "cell_type": "markdown",
   "metadata": {},
   "source": [
    "From the above graph we can clearly observe that during lockdown:\n",
    "\n",
    "**34 $\\mu g / m^3$ and above: Poland** is at the top of the list and the only country observing NO2 concentration level at **34.88 $\\mu g / m^3$** \n",
    "\n",
    "**Between 20 $\\mu g/ m^3$ to 25 $\\mu g / m^3$:** Following Poland, **Denmark** and **Italy** are being observed next after significant drop in PM concentration levels as compared to Poland\n",
    "\n",
    "**Between 15 $\\mu g/ m^3$ to 20 $\\mu g / m^3$:** In this range, most of the countries are being observed namely **Portugal**, **France**, **Netherlands**, **Germany**, **Sweden**, **Spain**, **UK**, **Beligum** and **Swizerland** are observed\n",
    "\n",
    "**Below 15 $\\mu g/ m^3$:** Lastly, **Finland** and **Ireland** are being observed in the last 2 respective places "
   ]
  },
  {
   "cell_type": "code",
   "execution_count": 16,
   "metadata": {},
   "outputs": [],
   "source": [
    "data = {\n",
    "        \"Country\":preseriespm10.index,\n",
    "        \"PM10 Gas Avg Level\":preseriespm10\n",
    "        }\n",
    "da = pd.DataFrame(data, columns = [ 'Country','PM10 Gas Avg Level'])"
   ]
  },
  {
   "cell_type": "code",
   "execution_count": 17,
   "metadata": {
    "scrolled": false
   },
   "outputs": [
    {
     "name": "stdout",
     "output_type": "stream",
     "text": [
      "Country\n",
      "Ireland           13.867868\n",
      "Switzerland       17.105088\n",
      "Finland           17.173636\n",
      "Sweden            17.867659\n",
      "Spain             17.971902\n",
      "Belgium           18.329911\n",
      "United Kingdom    20.688966\n",
      "Portugal          21.233784\n",
      "Netherlands       21.707804\n",
      "Germany           22.672324\n",
      "France            24.305902\n",
      "Italy             25.467386\n",
      "Denmark           26.198237\n",
      "Poland            39.917446\n",
      "Name: AirQualityLevel, dtype: float64\n"
     ]
    },
    {
     "data": {
      "image/png": "[encoded data removed]",
      "text/plain": [
       "<Figure size 1080x576 with 1 Axes>"
      ]
     },
     "metadata": {
      "needs_background": "light"
     },
     "output_type": "display_data"
    }
   ],
   "source": [
    "plt.figure(figsize=(15,8))\n",
    "ax = sns.barplot(x=\"Country\", y=\"PM10 Gas Avg Level\", data=da)\n",
    "ax.set_title(' Pre Lockdown PM10')\n",
    "b=ax.get_xticklabels()\n",
    "ax.set_xticklabels(b,rotation=45)\n",
    "print (preseriespm10)\n",
    "plt.show()"
   ]
  },
  {
   "cell_type": "markdown",
   "metadata": {},
   "source": [
    "From the above graph, the levels, recorded for PM10 before lockdown, recorded were highers for each country. \n",
    "\n",
    "**This complements our claim that the Lockdown has brought a positive impact of the Air Quality Index in terms of PM10 levels as well in NO2 levels**"
   ]
  },
  {
   "cell_type": "markdown",
   "metadata": {},
   "source": [
    "### PM10 Level - Comparison of Countries (Pre Vs During Lockdown) "
   ]
  },
  {
   "cell_type": "code",
   "execution_count": 18,
   "metadata": {},
   "outputs": [],
   "source": [
    "PostPreGraph=[]\n",
    "PostPreIndex=['Pre Lockdown France','During LockDown France','Pre Locdown Germany','During LockDown Germany','Pre Locdown Italy','During LockDown Italy']\n",
    "PostPreGraph.append(preseriespm10['France'])\n",
    "PostPreGraph.append(postseriespm10['France'])\n",
    "PostPreGraph.append(preseriespm10['Germany'])\n",
    "PostPreGraph.append(postseriespm10['Germany'])\n",
    "PostPreGraph.append(preseriespm10['Italy'])\n",
    "PostPreGraph.append(postseriespm10['Italy'])\n",
    "PostPreGraph\n",
    "data = {\n",
    "        \"Condition\":PostPreIndex,\n",
    "        \"PM10 Gas Avg Level\":PostPreGraph\n",
    "        }\n",
    "da = pd.DataFrame(data, columns = [ 'Condition','PM10 Gas Avg Level'])\n"
   ]
  },
  {
   "cell_type": "code",
   "execution_count": 19,
   "metadata": {},
   "outputs": [
    {
     "data": {
      "image/png": "[encoded data removed]",
      "text/plain": [
       "<Figure size 1080x576 with 1 Axes>"
      ]
     },
     "metadata": {
      "needs_background": "light"
     },
     "output_type": "display_data"
    }
   ],
   "source": [
    "plt.figure(figsize=(15,8))\n",
    "ax = sns.barplot(x=\"Condition\", y=\"PM10 Gas Avg Level\", data=da)\n",
    "ax.set_title(' Comparison for Countries - PM10')\n",
    "b=ax.get_xticklabels()\n",
    "ax.set_xticklabels(b,rotation=45)\n",
    "plt.show()"
   ]
  },
  {
   "cell_type": "markdown",
   "metadata": {},
   "source": [
    "From the above graph, we can clearly see a significant drop in the PM10 concentration levels:\n",
    "\n",
    "**France:**<br/>\n",
    "**Pre-lockdown:** 24.30 $\\mu g/ m^3$ as compared to **Post-lockdown:** 18.84 $\\mu g/ m^3$\n",
    "\n",
    "**Germany:**<br/>\n",
    "**Pre-lockdown:** 22.67 $\\mu g/ m^3$ as compared to **Post-lockdown:** 18.05 $\\mu g/ m^3$\n",
    "\n",
    "**Italy:**<br/>\n",
    "**Pre-lockdown:** 25.46 $\\mu g/ m^3$ as compared to **Post-lockdown:** 23.22 $\\mu g/ m^3$"
   ]
  },
  {
   "cell_type": "markdown",
   "metadata": {},
   "source": [
    "### PM2.5 Levels - Comparison of Pre and During Lockdown"
   ]
  },
  {
   "cell_type": "code",
   "execution_count": 20,
   "metadata": {},
   "outputs": [
    {
     "name": "stdout",
     "output_type": "stream",
     "text": [
      "Country\n",
      "Sweden             4.683981\n",
      "Finland            5.013445\n",
      "Ireland            8.336014\n",
      "Denmark            8.838961\n",
      "Netherlands        9.644565\n",
      "Belgium            9.938009\n",
      "United Kingdom     9.939925\n",
      "Spain              9.947650\n",
      "Switzerland       10.237821\n",
      "Portugal          10.898787\n",
      "Austria           12.228504\n",
      "Italy             12.397743\n",
      "Poland            26.667458\n",
      "Name: AirQualityLevel, dtype: float64\n"
     ]
    }
   ],
   "source": [
    "postseriespm25=postlockdownpm25.groupby(pd.Grouper(key='Country')).AirQualityLevel.mean().sort_values()\n",
    "preseries25=prelockdownpm25.groupby(pd.Grouper(key='Country')).AirQualityLevel.mean().sort_values()\n",
    "print(postseriespm25)"
   ]
  },
  {
   "cell_type": "code",
   "execution_count": 21,
   "metadata": {},
   "outputs": [],
   "source": [
    "dataa = {\n",
    "        \"Country\":postseriespm25.index,\n",
    "        \"PM2.5 Gas Avg Level\":postseriespm25\n",
    "        }\n",
    "daa = pd.DataFrame(dataa, columns = [ 'Country','PM2.5 Gas Avg Level'])"
   ]
  },
  {
   "cell_type": "code",
   "execution_count": 22,
   "metadata": {},
   "outputs": [
    {
     "data": {
      "image/png": "[encoded data removed]",
      "text/plain": [
       "<Figure size 1080x576 with 1 Axes>"
      ]
     },
     "metadata": {
      "needs_background": "light"
     },
     "output_type": "display_data"
    }
   ],
   "source": [
    "plt.figure(figsize=(15,8))\n",
    "ax = sns.barplot(x=\"Country\", y=\"PM2.5 Gas Avg Level\", data=daa)\n",
    "ax.set_title(' During Lockdown PM2.5')\n",
    "b=ax.get_xticklabels()\n",
    "ax.set_xticklabels(b,rotation=45)\n",
    "plt.show()"
   ]
  },
  {
   "cell_type": "markdown",
   "metadata": {},
   "source": [
    "From the above graph we can clearly observe that during lockdown:\n",
    "\n",
    "**25 $\\mu g / m^3$ and above: Poland** is at the top of the list and the only country observing PM2.5 concentration level at **26.66 $\\mu g / m^3$** \n",
    "\n",
    "**Between 10 $\\mu g/ m^3$ to 20 $\\mu g / m^3$:** Following Poland, A significant drop in concentration levels is being observed for countries namely **Italy**, **Austria**, **Portugal** and **Switzerland**\n",
    "\n",
    "**Below 10 $\\mu g/ m^3$:** Lastly, a considerable list of 8 countries fall under this range. **Spain**, **United Kingdom**, **Belgium** , **Netherlands** , **Denmark**, **Ireland**, **Finland** and **Sweden** are among this range of concentration levels"
   ]
  },
  {
   "cell_type": "code",
   "execution_count": 23,
   "metadata": {},
   "outputs": [],
   "source": [
    "dataa = {\n",
    "        \"Country\":preseries25.index,\n",
    "        \"PM2.5 Gas Avg Level\":preseries25\n",
    "        }\n",
    "daa = pd.DataFrame(dataa, columns = [ 'Country','PM2.5 Gas Avg Level'])"
   ]
  },
  {
   "cell_type": "code",
   "execution_count": 24,
   "metadata": {},
   "outputs": [
    {
     "name": "stdout",
     "output_type": "stream",
     "text": [
      "Country\n",
      "Sweden             5.906009\n",
      "Finland            6.971171\n",
      "Ireland            8.659988\n",
      "Spain             10.376612\n",
      "Portugal          11.304204\n",
      "United Kingdom    11.753674\n",
      "Belgium           12.459992\n",
      "Switzerland       12.477060\n",
      "Netherlands       12.735888\n",
      "Denmark           12.740907\n",
      "Italy             13.558310\n",
      "Austria           14.458355\n",
      "France            14.742817\n",
      "Germany           15.786679\n",
      "Poland            28.664177\n",
      "Name: AirQualityLevel, dtype: float64\n"
     ]
    },
    {
     "data": {
      "image/png": "[encoded data removed]",
      "text/plain": [
       "<Figure size 1080x576 with 1 Axes>"
      ]
     },
     "metadata": {
      "needs_background": "light"
     },
     "output_type": "display_data"
    }
   ],
   "source": [
    "plt.figure(figsize=(15,8))\n",
    "ax = sns.barplot(x=\"Country\", y=\"PM2.5 Gas Avg Level\", data=daa)\n",
    "ax.set_title(' Before Lockdown PM2.5')\n",
    "b=ax.get_xticklabels()\n",
    "ax.set_xticklabels(b,rotation=45)\n",
    "print (preseries25)\n",
    "plt.show()"
   ]
  },
  {
   "cell_type": "markdown",
   "metadata": {},
   "source": [
    "From the above graph, the levels, recorded for PM2.5 before lockdown, recorded were highers for each country. "
   ]
  },
  {
   "cell_type": "code",
   "execution_count": 25,
   "metadata": {},
   "outputs": [],
   "source": [
    "PostPreGraph=[]\n",
    "PostPreIndex=['Pre Lockdown United Kingdom','During LockDown United Kingdom','Pre Locdown Poland','During LockDown Poland','Pre Locdown Italy','During LockDown Italy']\n",
    "\n",
    "PostPreGraph.append(preseries25['United Kingdom'])\n",
    "PostPreGraph.append(postseriespm25['United Kingdom'])\n",
    "PostPreGraph.append(preseries25['Poland'])\n",
    "PostPreGraph.append(postseriespm25['Poland'])\n",
    "PostPreGraph.append(preseries25['Italy'])\n",
    "PostPreGraph.append(postseriespm25['Italy'])\n",
    "PostPreGraph\n",
    "data = {\n",
    "        \"Condition\":PostPreIndex,\n",
    "        \"PM2.5 Gas Avg Level\":PostPreGraph\n",
    "        }\n",
    "da = pd.DataFrame(data, columns = [ 'Condition','PM2.5 Gas Avg Level'])"
   ]
  },
  {
   "cell_type": "code",
   "execution_count": 26,
   "metadata": {},
   "outputs": [
    {
     "data": {
      "image/png": "[encoded data removed]",
      "text/plain": [
       "<Figure size 1080x576 with 1 Axes>"
      ]
     },
     "metadata": {
      "needs_background": "light"
     },
     "output_type": "display_data"
    }
   ],
   "source": [
    "plt.figure(figsize=(15,8))\n",
    "ax = sns.barplot(x=\"Condition\", y=\"PM2.5 Gas Avg Level\", data=da)\n",
    "ax.set_title(' Comparison for Countries - PM2.5')\n",
    "b=ax.get_xticklabels()\n",
    "ax.set_xticklabels(b,rotation=45)\n",
    "plt.show()"
   ]
  },
  {
   "cell_type": "markdown",
   "metadata": {},
   "source": [
    "From the above graph, we can clearly see a significant drop in the PM10 concentration levels except for Italy:\n",
    "\n",
    "**United Kingdom:**<br/>\n",
    "**Pre-lockdown:** 11.75 $\\mu g/ m^3$ as compared to **Post-lockdown:** 9.93 $\\mu g/ m^3$ \n",
    "\n",
    "**Poland:**<br/>\n",
    "**Pre-lockdown:** 28.66 $\\mu g/ m^3$ as compared to **Post-lockdown:** 26.66 $\\mu g/ m^3$ \n",
    "\n",
    "**Italy:**<br/>\n",
    "**Pre-lockdown:** 13.55 $\\mu g/ m^3$ as compared to **Post-lockdown:** 12.39 $\\mu g/ m^3$ "
   ]
  },
  {
   "cell_type": "markdown",
   "metadata": {},
   "source": [
    "### Concentration Level Timeline - Italy: NO2 Levels"
   ]
  },
  {
   "cell_type": "code",
   "execution_count": 27,
   "metadata": {
    "scrolled": true
   },
   "outputs": [
    {
     "name": "stdout",
     "output_type": "stream",
     "text": [
      "datebegin\n",
      "2020-04-30    17.880114\n",
      "2020-05-31    19.855325\n",
      "2020-06-30    20.561111\n",
      "2020-03-31    25.366022\n",
      "2020-02-29    44.608122\n",
      "Name: AirQualityLevel, dtype: float64\n"
     ]
    }
   ],
   "source": [
    "\n",
    "postlocdownp25UK=postlockdownno2[postlockdownno2.Country=='Italy']\n",
    "\n",
    "postlocdownp25UK.datebegin = pd.to_datetime(postlocdownp25UK.datebegin,format=\"%d/%m/%Y\")\n",
    "\n",
    "c=postlocdownp25UK.groupby(pd.Grouper(key='datebegin', freq='M')).AirQualityLevel.mean().sort_values()\n",
    "print(c)"
   ]
  },
  {
   "cell_type": "code",
   "execution_count": 28,
   "metadata": {},
   "outputs": [
    {
     "name": "stdout",
     "output_type": "stream",
     "text": [
      "['April', 'May', 'June', 'March', 'February']\n"
     ]
    }
   ],
   "source": [
    "import calendar\n",
    "monts=[]\n",
    "for bb in range(0,len(c)):\n",
    "    aa=str(c.index[bb]).split('-')\n",
    "    monts.append(calendar.month_name[int(aa[1])])\n",
    "    \n",
    "    \n",
    "print(monts)\n"
   ]
  },
  {
   "cell_type": "code",
   "execution_count": 29,
   "metadata": {},
   "outputs": [],
   "source": [
    "dataa = {\n",
    "        \"Months\":monts,\n",
    "        \"NO2 Gas Avg Level\":c\n",
    "        }\n",
    "daa = pd.DataFrame(dataa, columns = [ 'Months','NO2 Gas Avg Level'])"
   ]
  },
  {
   "cell_type": "code",
   "execution_count": 30,
   "metadata": {},
   "outputs": [
    {
     "name": "stdout",
     "output_type": "stream",
     "text": [
      "              Months  NO2 Gas Avg Level\n",
      "datebegin                              \n",
      "2020-04-30     April          17.880114\n",
      "2020-05-31       May          19.855325\n",
      "2020-06-30      June          20.561111\n",
      "2020-03-31     March          25.366022\n",
      "2020-02-29  February          44.608122\n"
     ]
    }
   ],
   "source": [
    "print(daa)"
   ]
  },
  {
   "cell_type": "code",
   "execution_count": 31,
   "metadata": {},
   "outputs": [],
   "source": [
    "daa = daa.sort_values(by=\"datebegin\")"
   ]
  },
  {
   "cell_type": "code",
   "execution_count": 32,
   "metadata": {},
   "outputs": [],
   "source": [
    "prelocdownp25UK=prelockdownno2[prelockdownno2.Country=='Italy']\n",
    "prelocdownp25UK19=prelockdownno2[prelockdownno2.datebegin.str.contains('2019')]"
   ]
  },
  {
   "cell_type": "code",
   "execution_count": 33,
   "metadata": {},
   "outputs": [
    {
     "data": {
      "text/plain": [
       "<matplotlib.legend.Legend at 0x24055d56508>"
      ]
     },
     "execution_count": 33,
     "metadata": {},
     "output_type": "execute_result"
    },
    {
     "data": {
      "image/png": "[encoded data removed]",
      "text/plain": [
       "<Figure size 1080x576 with 1 Axes>"
      ]
     },
     "metadata": {
      "needs_background": "light"
     },
     "output_type": "display_data"
    }
   ],
   "source": [
    "plt.figure(figsize=(15,8))\n",
    "plt.plot( daa['Months'],daa['NO2 Gas Avg Level'], marker='o', markerfacecolor='blue', markersize=12, color='skyblue',label='2020', linewidth=4)\n",
    "\n",
    "##plt.plot( 'x', 'y3', data=df, marker='', color='olive', linewidth=2, linestyle='dashed', label=\"toto\")\n",
    "plt.xlabel('Dates')\n",
    "plt.title('Monthly - During Lockdown Plots for NO2 (Italy)')\n",
    "plt.ylabel('NO2 Avg')\n",
    "plt.legend()\n"
   ]
  },
  {
   "cell_type": "code",
   "execution_count": 34,
   "metadata": {},
   "outputs": [],
   "source": [
    "\n",
    "monts=[]\n",
    "prelocdownp25UK19.datebegin = pd.to_datetime(prelocdownp25UK19.datebegin)\n",
    "prelocdownp25UK.datebegin = pd.to_datetime(prelocdownp25UK.datebegin,format=\"%d/%m/%Y\")\n",
    "dd=prelocdownp25UK19.groupby(pd.Grouper(key='datebegin', freq='M')).AirQualityLevel.mean().sort_values()\n",
    "for bb in range(0,len(dd)):\n",
    "    aa=str(dd.index[bb]).split('-')\n",
    "    monts.append(calendar.month_name[int(aa[1])])\n",
    "    \n",
    "\n",
    "dataa = {\n",
    "        \"Months\":monts,\n",
    "        \"NO2 Gas Avg Level\":dd\n",
    "        }\n",
    "daa = pd.DataFrame(dataa, columns = [ 'Months','NO2 Gas Avg Level'])\n",
    "daa = daa.sort_values(by=\"datebegin\")"
   ]
  },
  {
   "cell_type": "code",
   "execution_count": 35,
   "metadata": {},
   "outputs": [
    {
     "data": {
      "text/plain": [
       "<matplotlib.legend.Legend at 0x24059614108>"
      ]
     },
     "execution_count": 35,
     "metadata": {},
     "output_type": "execute_result"
    },
    {
     "data": {
      "image/png": "[encoded data removed]",
      "text/plain": [
       "<Figure size 1080x576 with 1 Axes>"
      ]
     },
     "metadata": {
      "needs_background": "light"
     },
     "output_type": "display_data"
    }
   ],
   "source": [
    "plt.figure(figsize=(15,8))\n",
    "plt.plot( daa['Months'],daa['NO2 Gas Avg Level'], marker='o', markerfacecolor='blue', markersize=12, color='skyblue',label='2019', linewidth=4)\n",
    "\n",
    "##plt.plot( 'x', 'y3', data=df, marker='', color='olive', linewidth=2, linestyle='dashed', label=\"toto\")\n",
    "plt.xlabel('Dates')\n",
    "plt.title('Monthly - Pre Lockdown Plots for NO2 (Italy)')\n",
    "plt.ylabel('NO2 Avg')\n",
    "plt.legend()\n",
    "\n"
   ]
  },
  {
   "cell_type": "markdown",
   "metadata": {},
   "source": [
    "### Interpretation:\n",
    "\n",
    "From the Timeline of NO2 concentration levels for Italy it can be seen that NO2 levels were highers during pre lockdown and then started to decrease gradually since the lockdown was implemented.\n",
    "\n",
    "We can take any country as an example in order to illustrate that the implementation of lockdown has brought a positive impact on the Air Quality\n",
    "\n",
    "The above comparison graphs clearly depicts a positive outcome of lockdown since the concentration levels of NO2, PM2.5 and PM10 have gone significantly down during lockdown as compared to pre lockdown for all europeon countries. This implies that Government of respective countries took the threat of pandemic seriously and implemented strict lockdown and stay at home policies so as to save as many lives as possible. \n",
    "\n",
    "### Road Ahead\n",
    "\n",
    "Moving forward, we are in dire need to check if there is any relationship between the time and concentration levels. With the graphs above complementing our claim of postive aspect during lockdown, a prediction model is better to build here so that we can check what would be the concentration levels in future if the lock down persists. How better the Air Quality can become? "
   ]
  },
  {
   "cell_type": "markdown",
   "metadata": {},
   "source": [
    "### CORRELATION MATRIX\n",
    "Inorder to begin with our regression analysis, we will dig deep to have some insight about the co-factors as how they relate to each other. Doing this, we will have better understanding as to which co-factors will be the major affectors or predictors for the response variable.<br/>\n",
    "\n",
    "Before generating the correlation matrix between NO2, PM2.5 and PM10 we need to sum up our dataset per month per country."
   ]
  },
  {
   "cell_type": "code",
   "execution_count": 36,
   "metadata": {},
   "outputs": [],
   "source": [
    "fil_pre_cor= prelockdown.pivot_table('AirQualityLevel', ['datebegin','Country'], 'AirPollutant')"
   ]
  },
  {
   "cell_type": "code",
   "execution_count": 37,
   "metadata": {},
   "outputs": [
    {
     "data": {
      "text/html": [
       "<div>\n",
       "<style scoped>\n",
       "    .dataframe tbody tr th:only-of-type {\n",
       "        vertical-align: middle;\n",
       "    }\n",
       "\n",
       "    .dataframe tbody tr th {\n",
       "        vertical-align: top;\n",
       "    }\n",
       "\n",
       "    .dataframe thead th {\n",
       "        text-align: right;\n",
       "    }\n",
       "</style>\n",
       "<table border=\"1\" class=\"dataframe\">\n",
       "  <thead>\n",
       "    <tr style=\"text-align: right;\">\n",
       "      <th></th>\n",
       "      <th>AirPollutant</th>\n",
       "      <th>NO2</th>\n",
       "      <th>PM10</th>\n",
       "      <th>PM2.5</th>\n",
       "    </tr>\n",
       "    <tr>\n",
       "      <th>datebegin</th>\n",
       "      <th>Country</th>\n",
       "      <th></th>\n",
       "      <th></th>\n",
       "      <th></th>\n",
       "    </tr>\n",
       "  </thead>\n",
       "  <tbody>\n",
       "    <tr>\n",
       "      <th rowspan=\"5\" valign=\"top\">01-01-2018</th>\n",
       "      <th>Belgium</th>\n",
       "      <td>17.700000</td>\n",
       "      <td>6.700000</td>\n",
       "      <td>4.333333</td>\n",
       "    </tr>\n",
       "    <tr>\n",
       "      <th>Finland</th>\n",
       "      <td>10.200000</td>\n",
       "      <td>8.220000</td>\n",
       "      <td>6.620000</td>\n",
       "    </tr>\n",
       "    <tr>\n",
       "      <th>France</th>\n",
       "      <td>18.788000</td>\n",
       "      <td>13.260000</td>\n",
       "      <td>5.916667</td>\n",
       "    </tr>\n",
       "    <tr>\n",
       "      <th>Netherlands</th>\n",
       "      <td>23.557143</td>\n",
       "      <td>22.957143</td>\n",
       "      <td>15.000000</td>\n",
       "    </tr>\n",
       "    <tr>\n",
       "      <th>Poland</th>\n",
       "      <td>43.500000</td>\n",
       "      <td>58.933333</td>\n",
       "      <td>39.033333</td>\n",
       "    </tr>\n",
       "    <tr>\n",
       "      <th>...</th>\n",
       "      <th>...</th>\n",
       "      <td>...</td>\n",
       "      <td>...</td>\n",
       "      <td>...</td>\n",
       "    </tr>\n",
       "    <tr>\n",
       "      <th rowspan=\"5\" valign=\"top\">9/9/2019</th>\n",
       "      <th>Denmark</th>\n",
       "      <td>22.425000</td>\n",
       "      <td>13.800000</td>\n",
       "      <td>8.200000</td>\n",
       "    </tr>\n",
       "    <tr>\n",
       "      <th>Ireland</th>\n",
       "      <td>14.460000</td>\n",
       "      <td>5.900000</td>\n",
       "      <td>2.650000</td>\n",
       "    </tr>\n",
       "    <tr>\n",
       "      <th>Portugal</th>\n",
       "      <td>15.691667</td>\n",
       "      <td>23.080000</td>\n",
       "      <td>12.566667</td>\n",
       "    </tr>\n",
       "    <tr>\n",
       "      <th>Sweden</th>\n",
       "      <td>NaN</td>\n",
       "      <td>14.800000</td>\n",
       "      <td>5.825000</td>\n",
       "    </tr>\n",
       "    <tr>\n",
       "      <th>Switzerland</th>\n",
       "      <td>18.366667</td>\n",
       "      <td>11.900000</td>\n",
       "      <td>5.500000</td>\n",
       "    </tr>\n",
       "  </tbody>\n",
       "</table>\n",
       "<p>10844 rows × 3 columns</p>\n",
       "</div>"
      ],
      "text/plain": [
       "AirPollutant                  NO2       PM10      PM2.5\n",
       "datebegin  Country                                     \n",
       "01-01-2018 Belgium      17.700000   6.700000   4.333333\n",
       "           Finland      10.200000   8.220000   6.620000\n",
       "           France       18.788000  13.260000   5.916667\n",
       "           Netherlands  23.557143  22.957143  15.000000\n",
       "           Poland       43.500000  58.933333  39.033333\n",
       "...                           ...        ...        ...\n",
       "9/9/2019   Denmark      22.425000  13.800000   8.200000\n",
       "           Ireland      14.460000   5.900000   2.650000\n",
       "           Portugal     15.691667  23.080000  12.566667\n",
       "           Sweden             NaN  14.800000   5.825000\n",
       "           Switzerland  18.366667  11.900000   5.500000\n",
       "\n",
       "[10844 rows x 3 columns]"
      ]
     },
     "execution_count": 37,
     "metadata": {},
     "output_type": "execute_result"
    }
   ],
   "source": [
    "fil_pre_cor"
   ]
  },
  {
   "cell_type": "code",
   "execution_count": 38,
   "metadata": {},
   "outputs": [],
   "source": [
    "pre_cor= fil_pre_cor.corr()"
   ]
  },
  {
   "cell_type": "code",
   "execution_count": 39,
   "metadata": {},
   "outputs": [
    {
     "data": {
      "text/html": [
       "<div>\n",
       "<style scoped>\n",
       "    .dataframe tbody tr th:only-of-type {\n",
       "        vertical-align: middle;\n",
       "    }\n",
       "\n",
       "    .dataframe tbody tr th {\n",
       "        vertical-align: top;\n",
       "    }\n",
       "\n",
       "    .dataframe thead th {\n",
       "        text-align: right;\n",
       "    }\n",
       "</style>\n",
       "<table border=\"1\" class=\"dataframe\">\n",
       "  <thead>\n",
       "    <tr style=\"text-align: right;\">\n",
       "      <th>AirPollutant</th>\n",
       "      <th>NO2</th>\n",
       "      <th>PM10</th>\n",
       "      <th>PM2.5</th>\n",
       "    </tr>\n",
       "    <tr>\n",
       "      <th>AirPollutant</th>\n",
       "      <th></th>\n",
       "      <th></th>\n",
       "      <th></th>\n",
       "    </tr>\n",
       "  </thead>\n",
       "  <tbody>\n",
       "    <tr>\n",
       "      <th>NO2</th>\n",
       "      <td>1.000000</td>\n",
       "      <td>0.538147</td>\n",
       "      <td>0.510637</td>\n",
       "    </tr>\n",
       "    <tr>\n",
       "      <th>PM10</th>\n",
       "      <td>0.538147</td>\n",
       "      <td>1.000000</td>\n",
       "      <td>0.873137</td>\n",
       "    </tr>\n",
       "    <tr>\n",
       "      <th>PM2.5</th>\n",
       "      <td>0.510637</td>\n",
       "      <td>0.873137</td>\n",
       "      <td>1.000000</td>\n",
       "    </tr>\n",
       "  </tbody>\n",
       "</table>\n",
       "</div>"
      ],
      "text/plain": [
       "AirPollutant       NO2      PM10     PM2.5\n",
       "AirPollutant                              \n",
       "NO2           1.000000  0.538147  0.510637\n",
       "PM10          0.538147  1.000000  0.873137\n",
       "PM2.5         0.510637  0.873137  1.000000"
      ]
     },
     "execution_count": 39,
     "metadata": {},
     "output_type": "execute_result"
    }
   ],
   "source": [
    "pre_cor"
   ]
  },
  {
   "cell_type": "code",
   "execution_count": 40,
   "metadata": {},
   "outputs": [
    {
     "data": {
      "text/plain": [
       "<matplotlib.axes._subplots.AxesSubplot at 0x2405942eb08>"
      ]
     },
     "execution_count": 40,
     "metadata": {},
     "output_type": "execute_result"
    },
    {
     "data": {
      "image/png": "[encoded data removed]",
      "text/plain": [
       "<Figure size 432x288 with 2 Axes>"
      ]
     },
     "metadata": {
      "needs_background": "light"
     },
     "output_type": "display_data"
    }
   ],
   "source": [
    "sns.heatmap(pre_cor, cmap= \"PuBu\")"
   ]
  },
  {
   "cell_type": "markdown",
   "metadata": {},
   "source": [
    "#### Interpretation of Pre Lockdown Correlation Matrix (HeatMap)\n",
    "\n",
    "1. There is positive correlation between all 3 variables\n",
    "2. **PM 2.5** and **PM 10** have maximum **positive correlation** between eachother **(87%)** \n",
    "3. **NO2** is also positively correlated with **PM2.5 (51%)** and **PM10 (53%)** but lesser in comparison with correlation of PM2.5 and PM10 \n",
    "\n",
    "\n",
    "From the above correlation matrix, we are in a better position to have a clear direction that we should pursue with our regression analysis."
   ]
  },
  {
   "cell_type": "code",
   "execution_count": 41,
   "metadata": {},
   "outputs": [],
   "source": [
    "fil_post_cor= postlockdown.pivot_table('AirQualityLevel', ['datebegin','Country'], 'AirPollutant')"
   ]
  },
  {
   "cell_type": "code",
   "execution_count": 42,
   "metadata": {},
   "outputs": [
    {
     "data": {
      "text/html": [
       "<div>\n",
       "<style scoped>\n",
       "    .dataframe tbody tr th:only-of-type {\n",
       "        vertical-align: middle;\n",
       "    }\n",
       "\n",
       "    .dataframe tbody tr th {\n",
       "        vertical-align: top;\n",
       "    }\n",
       "\n",
       "    .dataframe thead th {\n",
       "        text-align: right;\n",
       "    }\n",
       "</style>\n",
       "<table border=\"1\" class=\"dataframe\">\n",
       "  <thead>\n",
       "    <tr style=\"text-align: right;\">\n",
       "      <th></th>\n",
       "      <th>AirPollutant</th>\n",
       "      <th>NO2</th>\n",
       "      <th>PM10</th>\n",
       "      <th>PM2.5</th>\n",
       "    </tr>\n",
       "    <tr>\n",
       "      <th>datebegin</th>\n",
       "      <th>Country</th>\n",
       "      <th></th>\n",
       "      <th></th>\n",
       "      <th></th>\n",
       "    </tr>\n",
       "  </thead>\n",
       "  <tbody>\n",
       "    <tr>\n",
       "      <th rowspan=\"5\" valign=\"top\">01-01-2020</th>\n",
       "      <th>Belgium</th>\n",
       "      <td>22.350000</td>\n",
       "      <td>19.700000</td>\n",
       "      <td>19.300000</td>\n",
       "    </tr>\n",
       "    <tr>\n",
       "      <th>Finland</th>\n",
       "      <td>10.350000</td>\n",
       "      <td>9.660000</td>\n",
       "      <td>5.466667</td>\n",
       "    </tr>\n",
       "    <tr>\n",
       "      <th>France</th>\n",
       "      <td>31.925000</td>\n",
       "      <td>27.666667</td>\n",
       "      <td>NaN</td>\n",
       "    </tr>\n",
       "    <tr>\n",
       "      <th>Netherlands</th>\n",
       "      <td>27.500000</td>\n",
       "      <td>96.500000</td>\n",
       "      <td>73.000000</td>\n",
       "    </tr>\n",
       "    <tr>\n",
       "      <th>Poland</th>\n",
       "      <td>23.975000</td>\n",
       "      <td>32.285714</td>\n",
       "      <td>22.866667</td>\n",
       "    </tr>\n",
       "    <tr>\n",
       "      <th>...</th>\n",
       "      <th>...</th>\n",
       "      <td>...</td>\n",
       "      <td>...</td>\n",
       "      <td>...</td>\n",
       "    </tr>\n",
       "    <tr>\n",
       "      <th rowspan=\"5\" valign=\"top\">9/05/2020</th>\n",
       "      <th>Austria</th>\n",
       "      <td>21.093750</td>\n",
       "      <td>NaN</td>\n",
       "      <td>8.893548</td>\n",
       "    </tr>\n",
       "    <tr>\n",
       "      <th>Germany</th>\n",
       "      <td>26.233333</td>\n",
       "      <td>17.577778</td>\n",
       "      <td>NaN</td>\n",
       "    </tr>\n",
       "    <tr>\n",
       "      <th>Italy</th>\n",
       "      <td>23.736364</td>\n",
       "      <td>16.500000</td>\n",
       "      <td>10.285714</td>\n",
       "    </tr>\n",
       "    <tr>\n",
       "      <th>Spain</th>\n",
       "      <td>5.595833</td>\n",
       "      <td>16.500000</td>\n",
       "      <td>9.371429</td>\n",
       "    </tr>\n",
       "    <tr>\n",
       "      <th>United Kingdom</th>\n",
       "      <td>36.636364</td>\n",
       "      <td>32.525000</td>\n",
       "      <td>25.237500</td>\n",
       "    </tr>\n",
       "  </tbody>\n",
       "</table>\n",
       "<p>2283 rows × 3 columns</p>\n",
       "</div>"
      ],
      "text/plain": [
       "AirPollutant                     NO2       PM10      PM2.5\n",
       "datebegin  Country                                        \n",
       "01-01-2020 Belgium         22.350000  19.700000  19.300000\n",
       "           Finland         10.350000   9.660000   5.466667\n",
       "           France          31.925000  27.666667        NaN\n",
       "           Netherlands     27.500000  96.500000  73.000000\n",
       "           Poland          23.975000  32.285714  22.866667\n",
       "...                              ...        ...        ...\n",
       "9/05/2020  Austria         21.093750        NaN   8.893548\n",
       "           Germany         26.233333  17.577778        NaN\n",
       "           Italy           23.736364  16.500000  10.285714\n",
       "           Spain            5.595833  16.500000   9.371429\n",
       "           United Kingdom  36.636364  32.525000  25.237500\n",
       "\n",
       "[2283 rows x 3 columns]"
      ]
     },
     "execution_count": 42,
     "metadata": {},
     "output_type": "execute_result"
    }
   ],
   "source": [
    "fil_post_cor"
   ]
  },
  {
   "cell_type": "code",
   "execution_count": 43,
   "metadata": {},
   "outputs": [],
   "source": [
    "post_cor= fil_post_cor.corr()"
   ]
  },
  {
   "cell_type": "code",
   "execution_count": 44,
   "metadata": {},
   "outputs": [
    {
     "data": {
      "text/html": [
       "<div>\n",
       "<style scoped>\n",
       "    .dataframe tbody tr th:only-of-type {\n",
       "        vertical-align: middle;\n",
       "    }\n",
       "\n",
       "    .dataframe tbody tr th {\n",
       "        vertical-align: top;\n",
       "    }\n",
       "\n",
       "    .dataframe thead th {\n",
       "        text-align: right;\n",
       "    }\n",
       "</style>\n",
       "<table border=\"1\" class=\"dataframe\">\n",
       "  <thead>\n",
       "    <tr style=\"text-align: right;\">\n",
       "      <th>AirPollutant</th>\n",
       "      <th>NO2</th>\n",
       "      <th>PM10</th>\n",
       "      <th>PM2.5</th>\n",
       "    </tr>\n",
       "    <tr>\n",
       "      <th>AirPollutant</th>\n",
       "      <th></th>\n",
       "      <th></th>\n",
       "      <th></th>\n",
       "    </tr>\n",
       "  </thead>\n",
       "  <tbody>\n",
       "    <tr>\n",
       "      <th>NO2</th>\n",
       "      <td>1.000000</td>\n",
       "      <td>0.513245</td>\n",
       "      <td>0.588018</td>\n",
       "    </tr>\n",
       "    <tr>\n",
       "      <th>PM10</th>\n",
       "      <td>0.513245</td>\n",
       "      <td>1.000000</td>\n",
       "      <td>0.855519</td>\n",
       "    </tr>\n",
       "    <tr>\n",
       "      <th>PM2.5</th>\n",
       "      <td>0.588018</td>\n",
       "      <td>0.855519</td>\n",
       "      <td>1.000000</td>\n",
       "    </tr>\n",
       "  </tbody>\n",
       "</table>\n",
       "</div>"
      ],
      "text/plain": [
       "AirPollutant       NO2      PM10     PM2.5\n",
       "AirPollutant                              \n",
       "NO2           1.000000  0.513245  0.588018\n",
       "PM10          0.513245  1.000000  0.855519\n",
       "PM2.5         0.588018  0.855519  1.000000"
      ]
     },
     "execution_count": 44,
     "metadata": {},
     "output_type": "execute_result"
    }
   ],
   "source": [
    "post_cor"
   ]
  },
  {
   "cell_type": "code",
   "execution_count": 45,
   "metadata": {},
   "outputs": [
    {
     "data": {
      "text/plain": [
       "<matplotlib.axes._subplots.AxesSubplot at 0x24059a666c8>"
      ]
     },
     "execution_count": 45,
     "metadata": {},
     "output_type": "execute_result"
    },
    {
     "data": {
      "image/png": "[encoded data removed]",
      "text/plain": [
       "<Figure size 432x288 with 2 Axes>"
      ]
     },
     "metadata": {
      "needs_background": "light"
     },
     "output_type": "display_data"
    }
   ],
   "source": [
    "sns.heatmap(post_cor, cmap= \"PuBu\")"
   ]
  },
  {
   "cell_type": "markdown",
   "metadata": {},
   "source": [
    "#### Interpretation of Post Lockdown Correlation Matrix (HeatMap)\n",
    "\n",
    "1. There is positive correlation between all 3 variables\n",
    "2. **PM 2.5** and **PM 10** have maximum **positive correlation** between eachother **(85%)** \n",
    "3. **NO2** is also positively correlated with **PM2.5 (58%)** and **PM10 (51%)** but lesser in comparison with correlation of PM2.5 and PM10 \n",
    "\n",
    "#### Comparison of Pre Lockdown and Post Lockdown Correlation Matrices\n",
    "1. In Post Lockdown, we have observed a decreasing trend in correlation between the variables as compared to Pre Lockdown period\n",
    "2. The major decrease is seen in the correlation of NO2 with PM2.5 and PM10, observed at 51.32% and 58.88%, respectively, in Post Lockdown and compared to 51.06% and 53.81%, respectively, in Pre Lockdown"
   ]
  },
  {
   "cell_type": "markdown",
   "metadata": {},
   "source": [
    "## Model - Multiple Regression for Pre and During Lockdown"
   ]
  },
  {
   "cell_type": "markdown",
   "metadata": {},
   "source": [
    "Since, the course of this project is divided into 3 parts, namely:<br/>\n",
    "1. Pre Lockdown\n",
    "2. During Lockdown\n",
    "3. Post Lockdown\n",
    "\n",
    "Therefore, we will formulate 3 Linear Models for each period seperately.<br/> \n",
    "\n",
    "In applying Mutiple Linear Regression Analysis on our dataset, we will first convert the countries in categorical variables followed by convertion of the dates to numberical values.\n",
    "\n",
    "The linear equation that we will be working upon will be as follows:<br/>\n",
    "$y = \\beta_0 + \\beta_1x_1 + \\beta_2x_2 + x_3 + x_4$<br/>\n",
    "$y = \\beta_0 + \\beta X_1$\n",
    "\n",
    "where: <br/>\n",
    "$X_1 = x_1 + x_2 + x_3$ (considered as vector quantity)<br/>\n",
    "$\\beta = \\beta_1 + \\beta_2 + \\beta_3$<br/>\n",
    "$x_1$ = date<br/>\n",
    "$x_2$ = name of the country<br/>\n",
    "\n",
    "\n",
    "Here we are taking the datebegin column using parse_dates because if we import dataset into pandas the dates will come in as strings by default and will make some difficulty to work. So we are using parse_dates to change into timestamp. "
   ]
  },
  {
   "cell_type": "code",
   "execution_count": 46,
   "metadata": {},
   "outputs": [
    {
     "data": {
      "text/html": [
       "<div>\n",
       "<style scoped>\n",
       "    .dataframe tbody tr th:only-of-type {\n",
       "        vertical-align: middle;\n",
       "    }\n",
       "\n",
       "    .dataframe tbody tr th {\n",
       "        vertical-align: top;\n",
       "    }\n",
       "\n",
       "    .dataframe thead th {\n",
       "        text-align: right;\n",
       "    }\n",
       "</style>\n",
       "<table border=\"1\" class=\"dataframe\">\n",
       "  <thead>\n",
       "    <tr style=\"text-align: right;\">\n",
       "      <th></th>\n",
       "      <th>AirPollutant</th>\n",
       "      <th>AirQualityLevel</th>\n",
       "      <th>FilterStation</th>\n",
       "      <th>Country</th>\n",
       "      <th>TypeOfMeasurementStation</th>\n",
       "      <th>City</th>\n",
       "      <th>datebegin</th>\n",
       "      <th>validity_notation</th>\n",
       "    </tr>\n",
       "  </thead>\n",
       "  <tbody>\n",
       "    <tr>\n",
       "      <th>0</th>\n",
       "      <td>PM10</td>\n",
       "      <td>31.6</td>\n",
       "      <td>1</td>\n",
       "      <td>Denmark</td>\n",
       "      <td>background</td>\n",
       "      <td>København</td>\n",
       "      <td>2018-01-01</td>\n",
       "      <td>1</td>\n",
       "    </tr>\n",
       "    <tr>\n",
       "      <th>1</th>\n",
       "      <td>PM10</td>\n",
       "      <td>16.7</td>\n",
       "      <td>1</td>\n",
       "      <td>Denmark</td>\n",
       "      <td>background</td>\n",
       "      <td>København</td>\n",
       "      <td>2018-01-02</td>\n",
       "      <td>1</td>\n",
       "    </tr>\n",
       "    <tr>\n",
       "      <th>2</th>\n",
       "      <td>PM10</td>\n",
       "      <td>11.2</td>\n",
       "      <td>1</td>\n",
       "      <td>Denmark</td>\n",
       "      <td>background</td>\n",
       "      <td>København</td>\n",
       "      <td>2018-01-03</td>\n",
       "      <td>1</td>\n",
       "    </tr>\n",
       "    <tr>\n",
       "      <th>3</th>\n",
       "      <td>PM10</td>\n",
       "      <td>8.5</td>\n",
       "      <td>1</td>\n",
       "      <td>Denmark</td>\n",
       "      <td>background</td>\n",
       "      <td>København</td>\n",
       "      <td>2018-01-04</td>\n",
       "      <td>1</td>\n",
       "    </tr>\n",
       "    <tr>\n",
       "      <th>4</th>\n",
       "      <td>PM10</td>\n",
       "      <td>6.4</td>\n",
       "      <td>1</td>\n",
       "      <td>Denmark</td>\n",
       "      <td>background</td>\n",
       "      <td>København</td>\n",
       "      <td>2018-01-05</td>\n",
       "      <td>1</td>\n",
       "    </tr>\n",
       "    <tr>\n",
       "      <th>...</th>\n",
       "      <td>...</td>\n",
       "      <td>...</td>\n",
       "      <td>...</td>\n",
       "      <td>...</td>\n",
       "      <td>...</td>\n",
       "      <td>...</td>\n",
       "      <td>...</td>\n",
       "      <td>...</td>\n",
       "    </tr>\n",
       "    <tr>\n",
       "      <th>296228</th>\n",
       "      <td>PM2.5</td>\n",
       "      <td>4.5</td>\n",
       "      <td>1</td>\n",
       "      <td>United Kingdom</td>\n",
       "      <td>traffic</td>\n",
       "      <td>London</td>\n",
       "      <td>2020-05-23</td>\n",
       "      <td>1</td>\n",
       "    </tr>\n",
       "    <tr>\n",
       "      <th>296229</th>\n",
       "      <td>PM2.5</td>\n",
       "      <td>5.0</td>\n",
       "      <td>1</td>\n",
       "      <td>United Kingdom</td>\n",
       "      <td>traffic</td>\n",
       "      <td>London</td>\n",
       "      <td>2020-05-24</td>\n",
       "      <td>1</td>\n",
       "    </tr>\n",
       "    <tr>\n",
       "      <th>296230</th>\n",
       "      <td>PM2.5</td>\n",
       "      <td>6.6</td>\n",
       "      <td>1</td>\n",
       "      <td>United Kingdom</td>\n",
       "      <td>traffic</td>\n",
       "      <td>London</td>\n",
       "      <td>2020-05-27</td>\n",
       "      <td>1</td>\n",
       "    </tr>\n",
       "    <tr>\n",
       "      <th>296231</th>\n",
       "      <td>PM2.5</td>\n",
       "      <td>5.7</td>\n",
       "      <td>1</td>\n",
       "      <td>United Kingdom</td>\n",
       "      <td>traffic</td>\n",
       "      <td>London</td>\n",
       "      <td>2020-05-31</td>\n",
       "      <td>1</td>\n",
       "    </tr>\n",
       "    <tr>\n",
       "      <th>296232</th>\n",
       "      <td>PM2.5</td>\n",
       "      <td>1.7</td>\n",
       "      <td>1</td>\n",
       "      <td>United Kingdom</td>\n",
       "      <td>background</td>\n",
       "      <td>London</td>\n",
       "      <td>2018-01-28</td>\n",
       "      <td>2</td>\n",
       "    </tr>\n",
       "  </tbody>\n",
       "</table>\n",
       "<p>296233 rows × 8 columns</p>\n",
       "</div>"
      ],
      "text/plain": [
       "       AirPollutant  AirQualityLevel  FilterStation         Country  \\\n",
       "0              PM10             31.6              1         Denmark   \n",
       "1              PM10             16.7              1         Denmark   \n",
       "2              PM10             11.2              1         Denmark   \n",
       "3              PM10              8.5              1         Denmark   \n",
       "4              PM10              6.4              1         Denmark   \n",
       "...             ...              ...            ...             ...   \n",
       "296228        PM2.5              4.5              1  United Kingdom   \n",
       "296229        PM2.5              5.0              1  United Kingdom   \n",
       "296230        PM2.5              6.6              1  United Kingdom   \n",
       "296231        PM2.5              5.7              1  United Kingdom   \n",
       "296232        PM2.5              1.7              1  United Kingdom   \n",
       "\n",
       "       TypeOfMeasurementStation       City  datebegin  validity_notation  \n",
       "0                    background  København 2018-01-01                  1  \n",
       "1                    background  København 2018-01-02                  1  \n",
       "2                    background  København 2018-01-03                  1  \n",
       "3                    background  København 2018-01-04                  1  \n",
       "4                    background  København 2018-01-05                  1  \n",
       "...                         ...        ...        ...                ...  \n",
       "296228                  traffic     London 2020-05-23                  1  \n",
       "296229                  traffic     London 2020-05-24                  1  \n",
       "296230                  traffic     London 2020-05-27                  1  \n",
       "296231                  traffic     London 2020-05-31                  1  \n",
       "296232               background     London 2018-01-28                  2  \n",
       "\n",
       "[296233 rows x 8 columns]"
      ]
     },
     "execution_count": 46,
     "metadata": {},
     "output_type": "execute_result"
    }
   ],
   "source": [
    "df = pd.read_csv('files/All_Data.csv', parse_dates = ['datebegin'])\n",
    "df"
   ]
  },
  {
   "cell_type": "markdown",
   "metadata": {},
   "source": [
    "Here we are using pivot table to get the values in rows to columns"
   ]
  },
  {
   "cell_type": "code",
   "execution_count": 47,
   "metadata": {},
   "outputs": [],
   "source": [
    "df_pivot = df.pivot_table('AirQualityLevel', ['datebegin','Country'], 'AirPollutant')"
   ]
  },
  {
   "cell_type": "code",
   "execution_count": 48,
   "metadata": {},
   "outputs": [
    {
     "data": {
      "text/html": [
       "<div>\n",
       "<style scoped>\n",
       "    .dataframe tbody tr th:only-of-type {\n",
       "        vertical-align: middle;\n",
       "    }\n",
       "\n",
       "    .dataframe tbody tr th {\n",
       "        vertical-align: top;\n",
       "    }\n",
       "\n",
       "    .dataframe thead th {\n",
       "        text-align: right;\n",
       "    }\n",
       "</style>\n",
       "<table border=\"1\" class=\"dataframe\">\n",
       "  <thead>\n",
       "    <tr style=\"text-align: right;\">\n",
       "      <th></th>\n",
       "      <th>AirPollutant</th>\n",
       "      <th>NO2</th>\n",
       "      <th>PM10</th>\n",
       "      <th>PM2.5</th>\n",
       "    </tr>\n",
       "    <tr>\n",
       "      <th>datebegin</th>\n",
       "      <th>Country</th>\n",
       "      <th></th>\n",
       "      <th></th>\n",
       "      <th></th>\n",
       "    </tr>\n",
       "  </thead>\n",
       "  <tbody>\n",
       "    <tr>\n",
       "      <th rowspan=\"5\" valign=\"top\">2018-01-01</th>\n",
       "      <th>Austria</th>\n",
       "      <td>28.03125</td>\n",
       "      <td>NaN</td>\n",
       "      <td>27.033333</td>\n",
       "    </tr>\n",
       "    <tr>\n",
       "      <th>Belgium</th>\n",
       "      <td>17.70000</td>\n",
       "      <td>6.700</td>\n",
       "      <td>4.333333</td>\n",
       "    </tr>\n",
       "    <tr>\n",
       "      <th>Denmark</th>\n",
       "      <td>11.50000</td>\n",
       "      <td>27.575</td>\n",
       "      <td>18.800000</td>\n",
       "    </tr>\n",
       "    <tr>\n",
       "      <th>Finland</th>\n",
       "      <td>10.20000</td>\n",
       "      <td>8.220</td>\n",
       "      <td>6.620000</td>\n",
       "    </tr>\n",
       "    <tr>\n",
       "      <th>France</th>\n",
       "      <td>18.78800</td>\n",
       "      <td>13.260</td>\n",
       "      <td>5.916667</td>\n",
       "    </tr>\n",
       "  </tbody>\n",
       "</table>\n",
       "</div>"
      ],
      "text/plain": [
       "AirPollutant             NO2    PM10      PM2.5\n",
       "datebegin  Country                             \n",
       "2018-01-01 Austria  28.03125     NaN  27.033333\n",
       "           Belgium  17.70000   6.700   4.333333\n",
       "           Denmark  11.50000  27.575  18.800000\n",
       "           Finland  10.20000   8.220   6.620000\n",
       "           France   18.78800  13.260   5.916667"
      ]
     },
     "execution_count": 48,
     "metadata": {},
     "output_type": "execute_result"
    }
   ],
   "source": [
    "df_pivot.head()"
   ]
  },
  {
   "cell_type": "code",
   "execution_count": 49,
   "metadata": {},
   "outputs": [],
   "source": [
    "df_prelockdown = df_pivot.loc['2018-01-01':'2019-12-31']\n",
    "df_prelockdown = df_prelockdown.reset_index()"
   ]
  },
  {
   "cell_type": "code",
   "execution_count": 50,
   "metadata": {},
   "outputs": [
    {
     "data": {
      "text/html": [
       "<div>\n",
       "<style scoped>\n",
       "    .dataframe tbody tr th:only-of-type {\n",
       "        vertical-align: middle;\n",
       "    }\n",
       "\n",
       "    .dataframe tbody tr th {\n",
       "        vertical-align: top;\n",
       "    }\n",
       "\n",
       "    .dataframe thead th {\n",
       "        text-align: right;\n",
       "    }\n",
       "</style>\n",
       "<table border=\"1\" class=\"dataframe\">\n",
       "  <thead>\n",
       "    <tr style=\"text-align: right;\">\n",
       "      <th>AirPollutant</th>\n",
       "      <th>datebegin</th>\n",
       "      <th>Country</th>\n",
       "      <th>NO2</th>\n",
       "      <th>PM10</th>\n",
       "      <th>PM2.5</th>\n",
       "    </tr>\n",
       "  </thead>\n",
       "  <tbody>\n",
       "    <tr>\n",
       "      <th>0</th>\n",
       "      <td>2018-01-01</td>\n",
       "      <td>Austria</td>\n",
       "      <td>28.031250</td>\n",
       "      <td>NaN</td>\n",
       "      <td>27.033333</td>\n",
       "    </tr>\n",
       "    <tr>\n",
       "      <th>1</th>\n",
       "      <td>2018-01-01</td>\n",
       "      <td>Belgium</td>\n",
       "      <td>17.700000</td>\n",
       "      <td>6.700000</td>\n",
       "      <td>4.333333</td>\n",
       "    </tr>\n",
       "    <tr>\n",
       "      <th>2</th>\n",
       "      <td>2018-01-01</td>\n",
       "      <td>Denmark</td>\n",
       "      <td>11.500000</td>\n",
       "      <td>27.575000</td>\n",
       "      <td>18.800000</td>\n",
       "    </tr>\n",
       "    <tr>\n",
       "      <th>3</th>\n",
       "      <td>2018-01-01</td>\n",
       "      <td>Finland</td>\n",
       "      <td>10.200000</td>\n",
       "      <td>8.220000</td>\n",
       "      <td>6.620000</td>\n",
       "    </tr>\n",
       "    <tr>\n",
       "      <th>4</th>\n",
       "      <td>2018-01-01</td>\n",
       "      <td>France</td>\n",
       "      <td>18.788000</td>\n",
       "      <td>13.260000</td>\n",
       "      <td>5.916667</td>\n",
       "    </tr>\n",
       "    <tr>\n",
       "      <th>...</th>\n",
       "      <td>...</td>\n",
       "      <td>...</td>\n",
       "      <td>...</td>\n",
       "      <td>...</td>\n",
       "      <td>...</td>\n",
       "    </tr>\n",
       "    <tr>\n",
       "      <th>10839</th>\n",
       "      <td>2019-12-31</td>\n",
       "      <td>Portugal</td>\n",
       "      <td>42.008333</td>\n",
       "      <td>45.262500</td>\n",
       "      <td>38.000000</td>\n",
       "    </tr>\n",
       "    <tr>\n",
       "      <th>10840</th>\n",
       "      <td>2019-12-31</td>\n",
       "      <td>Spain</td>\n",
       "      <td>68.154167</td>\n",
       "      <td>35.469231</td>\n",
       "      <td>29.042857</td>\n",
       "    </tr>\n",
       "    <tr>\n",
       "      <th>10841</th>\n",
       "      <td>2019-12-31</td>\n",
       "      <td>Sweden</td>\n",
       "      <td>NaN</td>\n",
       "      <td>13.741667</td>\n",
       "      <td>2.222222</td>\n",
       "    </tr>\n",
       "    <tr>\n",
       "      <th>10842</th>\n",
       "      <td>2019-12-31</td>\n",
       "      <td>Switzerland</td>\n",
       "      <td>28.066667</td>\n",
       "      <td>20.250000</td>\n",
       "      <td>20.900000</td>\n",
       "    </tr>\n",
       "    <tr>\n",
       "      <th>10843</th>\n",
       "      <td>2019-12-31</td>\n",
       "      <td>United Kingdom</td>\n",
       "      <td>38.718182</td>\n",
       "      <td>27.875000</td>\n",
       "      <td>23.037500</td>\n",
       "    </tr>\n",
       "  </tbody>\n",
       "</table>\n",
       "<p>10844 rows × 5 columns</p>\n",
       "</div>"
      ],
      "text/plain": [
       "AirPollutant  datebegin         Country        NO2       PM10      PM2.5\n",
       "0            2018-01-01         Austria  28.031250        NaN  27.033333\n",
       "1            2018-01-01         Belgium  17.700000   6.700000   4.333333\n",
       "2            2018-01-01         Denmark  11.500000  27.575000  18.800000\n",
       "3            2018-01-01         Finland  10.200000   8.220000   6.620000\n",
       "4            2018-01-01          France  18.788000  13.260000   5.916667\n",
       "...                 ...             ...        ...        ...        ...\n",
       "10839        2019-12-31        Portugal  42.008333  45.262500  38.000000\n",
       "10840        2019-12-31           Spain  68.154167  35.469231  29.042857\n",
       "10841        2019-12-31          Sweden        NaN  13.741667   2.222222\n",
       "10842        2019-12-31     Switzerland  28.066667  20.250000  20.900000\n",
       "10843        2019-12-31  United Kingdom  38.718182  27.875000  23.037500\n",
       "\n",
       "[10844 rows x 5 columns]"
      ]
     },
     "execution_count": 50,
     "metadata": {},
     "output_type": "execute_result"
    }
   ],
   "source": [
    "df_prelockdown"
   ]
  },
  {
   "cell_type": "code",
   "execution_count": 51,
   "metadata": {},
   "outputs": [],
   "source": [
    "df_duringlockdown = df_pivot.loc['2020-01-01':'2020-05-31']\n",
    "df_duringlockdown = df_duringlockdown.reset_index()"
   ]
  },
  {
   "cell_type": "code",
   "execution_count": 52,
   "metadata": {},
   "outputs": [
    {
     "data": {
      "text/html": [
       "<div>\n",
       "<style scoped>\n",
       "    .dataframe tbody tr th:only-of-type {\n",
       "        vertical-align: middle;\n",
       "    }\n",
       "\n",
       "    .dataframe tbody tr th {\n",
       "        vertical-align: top;\n",
       "    }\n",
       "\n",
       "    .dataframe thead th {\n",
       "        text-align: right;\n",
       "    }\n",
       "</style>\n",
       "<table border=\"1\" class=\"dataframe\">\n",
       "  <thead>\n",
       "    <tr style=\"text-align: right;\">\n",
       "      <th>AirPollutant</th>\n",
       "      <th>datebegin</th>\n",
       "      <th>Country</th>\n",
       "      <th>NO2</th>\n",
       "      <th>PM10</th>\n",
       "      <th>PM2.5</th>\n",
       "    </tr>\n",
       "  </thead>\n",
       "  <tbody>\n",
       "    <tr>\n",
       "      <th>0</th>\n",
       "      <td>2020-01-01</td>\n",
       "      <td>Austria</td>\n",
       "      <td>21.7125</td>\n",
       "      <td>NaN</td>\n",
       "      <td>19.119355</td>\n",
       "    </tr>\n",
       "    <tr>\n",
       "      <th>1</th>\n",
       "      <td>2020-01-01</td>\n",
       "      <td>Belgium</td>\n",
       "      <td>22.3500</td>\n",
       "      <td>19.700000</td>\n",
       "      <td>19.300000</td>\n",
       "    </tr>\n",
       "    <tr>\n",
       "      <th>2</th>\n",
       "      <td>2020-01-01</td>\n",
       "      <td>Denmark</td>\n",
       "      <td>9.5500</td>\n",
       "      <td>20.400000</td>\n",
       "      <td>10.500000</td>\n",
       "    </tr>\n",
       "    <tr>\n",
       "      <th>3</th>\n",
       "      <td>2020-01-01</td>\n",
       "      <td>Finland</td>\n",
       "      <td>10.3500</td>\n",
       "      <td>9.660000</td>\n",
       "      <td>5.466667</td>\n",
       "    </tr>\n",
       "    <tr>\n",
       "      <th>4</th>\n",
       "      <td>2020-01-01</td>\n",
       "      <td>France</td>\n",
       "      <td>31.9250</td>\n",
       "      <td>27.666667</td>\n",
       "      <td>NaN</td>\n",
       "    </tr>\n",
       "  </tbody>\n",
       "</table>\n",
       "</div>"
      ],
      "text/plain": [
       "AirPollutant  datebegin  Country      NO2       PM10      PM2.5\n",
       "0            2020-01-01  Austria  21.7125        NaN  19.119355\n",
       "1            2020-01-01  Belgium  22.3500  19.700000  19.300000\n",
       "2            2020-01-01  Denmark   9.5500  20.400000  10.500000\n",
       "3            2020-01-01  Finland  10.3500   9.660000   5.466667\n",
       "4            2020-01-01   France  31.9250  27.666667        NaN"
      ]
     },
     "execution_count": 52,
     "metadata": {},
     "output_type": "execute_result"
    }
   ],
   "source": [
    "df_duringlockdown.head()"
   ]
  },
  {
   "cell_type": "code",
   "execution_count": 53,
   "metadata": {},
   "outputs": [],
   "source": [
    "df_prelockdown = df_prelockdown.dropna()"
   ]
  },
  {
   "cell_type": "code",
   "execution_count": 54,
   "metadata": {},
   "outputs": [],
   "source": [
    "df_duringlockdown = df_duringlockdown.dropna()"
   ]
  },
  {
   "cell_type": "markdown",
   "metadata": {},
   "source": [
    "Rounding of the values to avoid too much of decimals in the data using the round function."
   ]
  },
  {
   "cell_type": "code",
   "execution_count": 55,
   "metadata": {},
   "outputs": [],
   "source": [
    "df_prelockdown = df_prelockdown.round(decimals= 1)\n",
    "df_duringlockdown = df_duringlockdown.round(decimals= 1)"
   ]
  },
  {
   "cell_type": "code",
   "execution_count": 56,
   "metadata": {},
   "outputs": [
    {
     "data": {
      "text/html": [
       "<div>\n",
       "<style scoped>\n",
       "    .dataframe tbody tr th:only-of-type {\n",
       "        vertical-align: middle;\n",
       "    }\n",
       "\n",
       "    .dataframe tbody tr th {\n",
       "        vertical-align: top;\n",
       "    }\n",
       "\n",
       "    .dataframe thead th {\n",
       "        text-align: right;\n",
       "    }\n",
       "</style>\n",
       "<table border=\"1\" class=\"dataframe\">\n",
       "  <thead>\n",
       "    <tr style=\"text-align: right;\">\n",
       "      <th>AirPollutant</th>\n",
       "      <th>datebegin</th>\n",
       "      <th>Country</th>\n",
       "      <th>NO2</th>\n",
       "      <th>PM10</th>\n",
       "      <th>PM2.5</th>\n",
       "    </tr>\n",
       "  </thead>\n",
       "  <tbody>\n",
       "    <tr>\n",
       "      <th>1</th>\n",
       "      <td>2018-01-01</td>\n",
       "      <td>Belgium</td>\n",
       "      <td>17.7</td>\n",
       "      <td>6.7</td>\n",
       "      <td>4.3</td>\n",
       "    </tr>\n",
       "    <tr>\n",
       "      <th>2</th>\n",
       "      <td>2018-01-01</td>\n",
       "      <td>Denmark</td>\n",
       "      <td>11.5</td>\n",
       "      <td>27.6</td>\n",
       "      <td>18.8</td>\n",
       "    </tr>\n",
       "    <tr>\n",
       "      <th>3</th>\n",
       "      <td>2018-01-01</td>\n",
       "      <td>Finland</td>\n",
       "      <td>10.2</td>\n",
       "      <td>8.2</td>\n",
       "      <td>6.6</td>\n",
       "    </tr>\n",
       "    <tr>\n",
       "      <th>4</th>\n",
       "      <td>2018-01-01</td>\n",
       "      <td>France</td>\n",
       "      <td>18.8</td>\n",
       "      <td>13.3</td>\n",
       "      <td>5.9</td>\n",
       "    </tr>\n",
       "    <tr>\n",
       "      <th>5</th>\n",
       "      <td>2018-01-01</td>\n",
       "      <td>Germany</td>\n",
       "      <td>22.0</td>\n",
       "      <td>22.7</td>\n",
       "      <td>24.1</td>\n",
       "    </tr>\n",
       "  </tbody>\n",
       "</table>\n",
       "</div>"
      ],
      "text/plain": [
       "AirPollutant  datebegin  Country   NO2  PM10  PM2.5\n",
       "1            2018-01-01  Belgium  17.7   6.7    4.3\n",
       "2            2018-01-01  Denmark  11.5  27.6   18.8\n",
       "3            2018-01-01  Finland  10.2   8.2    6.6\n",
       "4            2018-01-01   France  18.8  13.3    5.9\n",
       "5            2018-01-01  Germany  22.0  22.7   24.1"
      ]
     },
     "execution_count": 56,
     "metadata": {},
     "output_type": "execute_result"
    }
   ],
   "source": [
    "df_prelockdown.head()"
   ]
  },
  {
   "cell_type": "code",
   "execution_count": 57,
   "metadata": {},
   "outputs": [
    {
     "data": {
      "text/html": [
       "<div>\n",
       "<style scoped>\n",
       "    .dataframe tbody tr th:only-of-type {\n",
       "        vertical-align: middle;\n",
       "    }\n",
       "\n",
       "    .dataframe tbody tr th {\n",
       "        vertical-align: top;\n",
       "    }\n",
       "\n",
       "    .dataframe thead th {\n",
       "        text-align: right;\n",
       "    }\n",
       "</style>\n",
       "<table border=\"1\" class=\"dataframe\">\n",
       "  <thead>\n",
       "    <tr style=\"text-align: right;\">\n",
       "      <th>AirPollutant</th>\n",
       "      <th>datebegin</th>\n",
       "      <th>Country</th>\n",
       "      <th>NO2</th>\n",
       "      <th>PM10</th>\n",
       "      <th>PM2.5</th>\n",
       "    </tr>\n",
       "  </thead>\n",
       "  <tbody>\n",
       "    <tr>\n",
       "      <th>1</th>\n",
       "      <td>2020-01-01</td>\n",
       "      <td>Belgium</td>\n",
       "      <td>22.4</td>\n",
       "      <td>19.7</td>\n",
       "      <td>19.3</td>\n",
       "    </tr>\n",
       "    <tr>\n",
       "      <th>2</th>\n",
       "      <td>2020-01-01</td>\n",
       "      <td>Denmark</td>\n",
       "      <td>9.6</td>\n",
       "      <td>20.4</td>\n",
       "      <td>10.5</td>\n",
       "    </tr>\n",
       "    <tr>\n",
       "      <th>3</th>\n",
       "      <td>2020-01-01</td>\n",
       "      <td>Finland</td>\n",
       "      <td>10.4</td>\n",
       "      <td>9.7</td>\n",
       "      <td>5.5</td>\n",
       "    </tr>\n",
       "    <tr>\n",
       "      <th>6</th>\n",
       "      <td>2020-01-01</td>\n",
       "      <td>Ireland</td>\n",
       "      <td>33.8</td>\n",
       "      <td>32.4</td>\n",
       "      <td>36.4</td>\n",
       "    </tr>\n",
       "    <tr>\n",
       "      <th>7</th>\n",
       "      <td>2020-01-01</td>\n",
       "      <td>Netherlands</td>\n",
       "      <td>27.5</td>\n",
       "      <td>96.5</td>\n",
       "      <td>73.0</td>\n",
       "    </tr>\n",
       "  </tbody>\n",
       "</table>\n",
       "</div>"
      ],
      "text/plain": [
       "AirPollutant  datebegin      Country   NO2  PM10  PM2.5\n",
       "1            2020-01-01      Belgium  22.4  19.7   19.3\n",
       "2            2020-01-01      Denmark   9.6  20.4   10.5\n",
       "3            2020-01-01      Finland  10.4   9.7    5.5\n",
       "6            2020-01-01      Ireland  33.8  32.4   36.4\n",
       "7            2020-01-01  Netherlands  27.5  96.5   73.0"
      ]
     },
     "execution_count": 57,
     "metadata": {},
     "output_type": "execute_result"
    }
   ],
   "source": [
    "df_duringlockdown.head()"
   ]
  },
  {
   "cell_type": "markdown",
   "metadata": {},
   "source": [
    "Converting the date to the numerical value to give it as input for the model."
   ]
  },
  {
   "cell_type": "code",
   "execution_count": 58,
   "metadata": {},
   "outputs": [],
   "source": [
    "df_prelockdown.datebegin = pd.to_datetime(df_prelockdown.datebegin, infer_datetime_format = True)\n",
    "df_prelockdown.datebegin = df_prelockdown.datebegin.map(dt.datetime.toordinal)"
   ]
  },
  {
   "cell_type": "markdown",
   "metadata": {},
   "source": [
    "We are using the label encoder to convert the data into numerical  data."
   ]
  },
  {
   "cell_type": "code",
   "execution_count": 59,
   "metadata": {},
   "outputs": [],
   "source": [
    "from sklearn.preprocessing import LabelEncoder\n",
    "le = LabelEncoder()"
   ]
  },
  {
   "cell_type": "markdown",
   "metadata": {},
   "source": [
    "### Model for prelockdown"
   ]
  },
  {
   "cell_type": "code",
   "execution_count": 60,
   "metadata": {},
   "outputs": [
    {
     "data": {
      "text/html": [
       "<div>\n",
       "<style scoped>\n",
       "    .dataframe tbody tr th:only-of-type {\n",
       "        vertical-align: middle;\n",
       "    }\n",
       "\n",
       "    .dataframe tbody tr th {\n",
       "        vertical-align: top;\n",
       "    }\n",
       "\n",
       "    .dataframe thead th {\n",
       "        text-align: right;\n",
       "    }\n",
       "</style>\n",
       "<table border=\"1\" class=\"dataframe\">\n",
       "  <thead>\n",
       "    <tr style=\"text-align: right;\">\n",
       "      <th>AirPollutant</th>\n",
       "      <th>datebegin</th>\n",
       "      <th>Country</th>\n",
       "      <th>NO2</th>\n",
       "      <th>PM10</th>\n",
       "      <th>PM2.5</th>\n",
       "    </tr>\n",
       "  </thead>\n",
       "  <tbody>\n",
       "    <tr>\n",
       "      <th>1</th>\n",
       "      <td>736695</td>\n",
       "      <td>0</td>\n",
       "      <td>17.7</td>\n",
       "      <td>6.7</td>\n",
       "      <td>4.3</td>\n",
       "    </tr>\n",
       "    <tr>\n",
       "      <th>2</th>\n",
       "      <td>736695</td>\n",
       "      <td>1</td>\n",
       "      <td>11.5</td>\n",
       "      <td>27.6</td>\n",
       "      <td>18.8</td>\n",
       "    </tr>\n",
       "    <tr>\n",
       "      <th>3</th>\n",
       "      <td>736695</td>\n",
       "      <td>2</td>\n",
       "      <td>10.2</td>\n",
       "      <td>8.2</td>\n",
       "      <td>6.6</td>\n",
       "    </tr>\n",
       "    <tr>\n",
       "      <th>4</th>\n",
       "      <td>736695</td>\n",
       "      <td>3</td>\n",
       "      <td>18.8</td>\n",
       "      <td>13.3</td>\n",
       "      <td>5.9</td>\n",
       "    </tr>\n",
       "    <tr>\n",
       "      <th>5</th>\n",
       "      <td>736695</td>\n",
       "      <td>4</td>\n",
       "      <td>22.0</td>\n",
       "      <td>22.7</td>\n",
       "      <td>24.1</td>\n",
       "    </tr>\n",
       "  </tbody>\n",
       "</table>\n",
       "</div>"
      ],
      "text/plain": [
       "AirPollutant  datebegin  Country   NO2  PM10  PM2.5\n",
       "1                736695        0  17.7   6.7    4.3\n",
       "2                736695        1  11.5  27.6   18.8\n",
       "3                736695        2  10.2   8.2    6.6\n",
       "4                736695        3  18.8  13.3    5.9\n",
       "5                736695        4  22.0  22.7   24.1"
      ]
     },
     "execution_count": 60,
     "metadata": {},
     "output_type": "execute_result"
    }
   ],
   "source": [
    "df_le = df_prelockdown\n",
    "df_le.Country = le.fit_transform(df_le.Country)\n",
    "df_le.head(5)"
   ]
  },
  {
   "cell_type": "code",
   "execution_count": 61,
   "metadata": {},
   "outputs": [
    {
     "name": "stdout",
     "output_type": "stream",
     "text": [
      "The classes are : ['Belgium' 'Denmark' 'Finland' 'France' 'Germany' 'Ireland' 'Italy'\n",
      " 'Netherlands' 'Poland' 'Portugal' 'Spain' 'Switzerland' 'United Kingdom']\n"
     ]
    }
   ],
   "source": [
    "print('The classes are :', le.classes_)"
   ]
  },
  {
   "cell_type": "code",
   "execution_count": 62,
   "metadata": {},
   "outputs": [],
   "source": [
    "X = df_le.drop(['PM10'], axis=1)\n",
    "y = df_le[\"PM10\"]"
   ]
  },
  {
   "cell_type": "markdown",
   "metadata": {},
   "source": [
    "#### Splitting Dataset: Train and Test Split  "
   ]
  },
  {
   "cell_type": "code",
   "execution_count": 63,
   "metadata": {},
   "outputs": [],
   "source": [
    "X_train, X_test, y_train, y_test = train_test_split(X, y, random_state=47)"
   ]
  },
  {
   "cell_type": "code",
   "execution_count": 64,
   "metadata": {},
   "outputs": [
    {
     "name": "stdout",
     "output_type": "stream",
     "text": [
      "X_train shape:  (6408, 4)\n",
      "y_train shape:  (6408,)\n",
      "X_test shape:  (2137, 4)\n",
      "y_test shape:  (2137,)\n"
     ]
    }
   ],
   "source": [
    "print(\"X_train shape: \", X_train.shape)\n",
    "print(\"y_train shape: \", y_train.shape)\n",
    "print(\"X_test shape: \", X_test.shape)\n",
    "print(\"y_test shape: \", y_test.shape)"
   ]
  },
  {
   "cell_type": "markdown",
   "metadata": {},
   "source": [
    "#### Making Linear Regression Model"
   ]
  },
  {
   "cell_type": "code",
   "execution_count": 65,
   "metadata": {},
   "outputs": [
    {
     "data": {
      "text/plain": [
       "LinearRegression(copy_X=True, fit_intercept=True, n_jobs=None, normalize=False)"
      ]
     },
     "execution_count": 65,
     "metadata": {},
     "output_type": "execute_result"
    }
   ],
   "source": [
    "lr = LinearRegression()\n",
    "lr.fit(X_train, y_train)"
   ]
  },
  {
   "cell_type": "markdown",
   "metadata": {},
   "source": [
    "#### Testing Our Model for Test Data"
   ]
  },
  {
   "cell_type": "code",
   "execution_count": 66,
   "metadata": {},
   "outputs": [],
   "source": [
    "predicted = lr.predict(X_test)"
   ]
  },
  {
   "cell_type": "code",
   "execution_count": 67,
   "metadata": {},
   "outputs": [
    {
     "name": "stdout",
     "output_type": "stream",
     "text": [
      "R Squared: 0.8372263489848315\n"
     ]
    }
   ],
   "source": [
    "r2 = r2_score(y_test, predicted)\n",
    "print(\"R Squared:\", r2)"
   ]
  },
  {
   "cell_type": "markdown",
   "metadata": {},
   "source": [
    "Here, the value of **R squared (for Pre-LockDown)** is observed to be **83.72%** which means that our model is 83.72% **correctly** predicting the test data. This implies that our model is good fit for predicting the values of NO2, PM2.5 and PM10 for categorical variables (i.e. Countries).\n",
    "\n",
    "16.18% inaccuracy is being observed which fairly acceptable."
   ]
  },
  {
   "cell_type": "markdown",
   "metadata": {},
   "source": [
    "### Predicting with values"
   ]
  },
  {
   "cell_type": "code",
   "execution_count": 68,
   "metadata": {},
   "outputs": [],
   "source": [
    "dat1=[\"2020-06-08\",\"2020-06-12\"]\n",
    "dat2=['6','6']\n",
    "dat3=['17.9','14.7']\n",
    "dat4=['15.3','8.9']\n",
    "data1 = {\n",
    "        'datebegin':dat1,\n",
    "        'Country':dat2,\n",
    "        'NO2':dat3 ,\n",
    "        'PM2.5':dat4\n",
    "         }\n",
    "df1 = pd.DataFrame(data1, columns = ['datebegin','Country','NO2','PM2.5'])\n",
    "df1['datebegin'] = pd.to_datetime(df1['datebegin'])\n",
    "df1['datebegin'] = df1['datebegin'].map(dt.datetime.toordinal)"
   ]
  },
  {
   "cell_type": "code",
   "execution_count": 69,
   "metadata": {},
   "outputs": [
    {
     "name": "stdout",
     "output_type": "stream",
     "text": [
      "The prediction of PM10 for 2020-06-08 and 2020-06-12 is : [22.99331081 15.58730746]\n"
     ]
    }
   ],
   "source": [
    "print('The prediction of PM10 for 2020-06-08 and 2020-06-12 is :', lr.predict(df1))"
   ]
  },
  {
   "cell_type": "markdown",
   "metadata": {},
   "source": [
    "### Model for during lockdown"
   ]
  },
  {
   "cell_type": "code",
   "execution_count": 70,
   "metadata": {},
   "outputs": [],
   "source": [
    "df_duringlockdown.datebegin = pd.to_datetime(df_duringlockdown.datebegin, infer_datetime_format = True)\n",
    "df_duringlockdown.datebegin = df_duringlockdown.datebegin.map(dt.datetime.toordinal)"
   ]
  },
  {
   "cell_type": "code",
   "execution_count": 71,
   "metadata": {},
   "outputs": [
    {
     "data": {
      "text/html": [
       "<div>\n",
       "<style scoped>\n",
       "    .dataframe tbody tr th:only-of-type {\n",
       "        vertical-align: middle;\n",
       "    }\n",
       "\n",
       "    .dataframe tbody tr th {\n",
       "        vertical-align: top;\n",
       "    }\n",
       "\n",
       "    .dataframe thead th {\n",
       "        text-align: right;\n",
       "    }\n",
       "</style>\n",
       "<table border=\"1\" class=\"dataframe\">\n",
       "  <thead>\n",
       "    <tr style=\"text-align: right;\">\n",
       "      <th>AirPollutant</th>\n",
       "      <th>datebegin</th>\n",
       "      <th>Country</th>\n",
       "      <th>NO2</th>\n",
       "      <th>PM10</th>\n",
       "      <th>PM2.5</th>\n",
       "    </tr>\n",
       "  </thead>\n",
       "  <tbody>\n",
       "    <tr>\n",
       "      <th>1</th>\n",
       "      <td>737425</td>\n",
       "      <td>0</td>\n",
       "      <td>22.4</td>\n",
       "      <td>19.7</td>\n",
       "      <td>19.3</td>\n",
       "    </tr>\n",
       "    <tr>\n",
       "      <th>2</th>\n",
       "      <td>737425</td>\n",
       "      <td>1</td>\n",
       "      <td>9.6</td>\n",
       "      <td>20.4</td>\n",
       "      <td>10.5</td>\n",
       "    </tr>\n",
       "    <tr>\n",
       "      <th>3</th>\n",
       "      <td>737425</td>\n",
       "      <td>2</td>\n",
       "      <td>10.4</td>\n",
       "      <td>9.7</td>\n",
       "      <td>5.5</td>\n",
       "    </tr>\n",
       "    <tr>\n",
       "      <th>6</th>\n",
       "      <td>737425</td>\n",
       "      <td>3</td>\n",
       "      <td>33.8</td>\n",
       "      <td>32.4</td>\n",
       "      <td>36.4</td>\n",
       "    </tr>\n",
       "    <tr>\n",
       "      <th>7</th>\n",
       "      <td>737425</td>\n",
       "      <td>5</td>\n",
       "      <td>27.5</td>\n",
       "      <td>96.5</td>\n",
       "      <td>73.0</td>\n",
       "    </tr>\n",
       "  </tbody>\n",
       "</table>\n",
       "</div>"
      ],
      "text/plain": [
       "AirPollutant  datebegin  Country   NO2  PM10  PM2.5\n",
       "1                737425        0  22.4  19.7   19.3\n",
       "2                737425        1   9.6  20.4   10.5\n",
       "3                737425        2  10.4   9.7    5.5\n",
       "6                737425        3  33.8  32.4   36.4\n",
       "7                737425        5  27.5  96.5   73.0"
      ]
     },
     "execution_count": 71,
     "metadata": {},
     "output_type": "execute_result"
    }
   ],
   "source": [
    "df_le = df_duringlockdown\n",
    "df_le.Country = le.fit_transform(df_le.Country)\n",
    "df_le.head(5)"
   ]
  },
  {
   "cell_type": "code",
   "execution_count": 72,
   "metadata": {},
   "outputs": [],
   "source": [
    "X = df_le.drop(['PM10'],axis=1)\n",
    "y = df_le[\"PM10\"]"
   ]
  },
  {
   "cell_type": "code",
   "execution_count": 73,
   "metadata": {},
   "outputs": [],
   "source": [
    "X_train, X_test, y_train, y_test = train_test_split(X, y, random_state=47)"
   ]
  },
  {
   "cell_type": "code",
   "execution_count": 74,
   "metadata": {},
   "outputs": [
    {
     "name": "stdout",
     "output_type": "stream",
     "text": [
      "X_train shape:  (1026, 4)\n",
      "y_train shape:  (1026,)\n",
      "X_test shape:  (342, 4)\n",
      "y_test shape:  (342,)\n"
     ]
    }
   ],
   "source": [
    "print(\"X_train shape: \", X_train.shape)\n",
    "print(\"y_train shape: \", y_train.shape)\n",
    "print(\"X_test shape: \", X_test.shape)\n",
    "print(\"y_test shape: \", y_test.shape)"
   ]
  },
  {
   "cell_type": "code",
   "execution_count": 75,
   "metadata": {},
   "outputs": [
    {
     "data": {
      "text/plain": [
       "LinearRegression(copy_X=True, fit_intercept=True, n_jobs=None, normalize=False)"
      ]
     },
     "execution_count": 75,
     "metadata": {},
     "output_type": "execute_result"
    }
   ],
   "source": [
    "lr = LinearRegression()\n",
    "lr.fit(X_train, y_train)"
   ]
  },
  {
   "cell_type": "code",
   "execution_count": 76,
   "metadata": {},
   "outputs": [],
   "source": [
    "predicted = lr.predict(X_test)"
   ]
  },
  {
   "cell_type": "code",
   "execution_count": 77,
   "metadata": {},
   "outputs": [
    {
     "name": "stdout",
     "output_type": "stream",
     "text": [
      "R Squared: 0.781756545187706\n"
     ]
    }
   ],
   "source": [
    "r2 = r2_score(y_test, predicted)\n",
    "print(\"R Squared:\", r2)"
   ]
  },
  {
   "cell_type": "markdown",
   "metadata": {},
   "source": [
    "Here, the value of **R squared (for During-LockDown)** is observed to be **78.17%** which means that our model is 78.17% **correctly** predicting the test data or we can say that the accuracy of this model in prediction is 78.17%. This implies that our model is good fit for predicting the values of NO2, PM2.5 and PM10 for categorical variables (i.e. Countries).\n",
    "\n",
    "21.83% inaccuracy is being observed which fairly acceptable."
   ]
  },
  {
   "cell_type": "markdown",
   "metadata": {},
   "source": [
    "### Predicting the values"
   ]
  },
  {
   "cell_type": "code",
   "execution_count": 78,
   "metadata": {},
   "outputs": [],
   "source": [
    "dat1=[\"2020-06-08\",\"2020-06-12\"]\n",
    "dat2=['6','6']\n",
    "dat3=['17.9','14.7']\n",
    "dat4=['15.3','8.9']\n",
    "data1 = {\n",
    "        'datebegin':dat1,\n",
    "        'Country':dat2,\n",
    "        'PM10':dat3 ,\n",
    "        'PM2.5':dat4\n",
    "         }\n",
    "df1 = pd.DataFrame(data1, columns = ['datebegin','Country','PM10','PM2.5'])\n",
    "df1['datebegin'] = pd.to_datetime(df1['datebegin'])\n",
    "df1['datebegin'] = df1['datebegin'].map(dt.datetime.toordinal)"
   ]
  },
  {
   "cell_type": "code",
   "execution_count": 79,
   "metadata": {},
   "outputs": [
    {
     "name": "stdout",
     "output_type": "stream",
     "text": [
      "The prediction of PM10 for 2020-06-08 and 2020-06-12 is : [24.44351116 17.37327654]\n"
     ]
    }
   ],
   "source": [
    "print('The prediction of PM10 for 2020-06-08 and 2020-06-12 is :', lr.predict(df1))"
   ]
  },
  {
   "cell_type": "markdown",
   "metadata": {},
   "source": [
    "## Model for NO2 values pre-lockdown\n"
   ]
  },
  {
   "cell_type": "code",
   "execution_count": 80,
   "metadata": {},
   "outputs": [
    {
     "data": {
      "text/html": [
       "<div>\n",
       "<style scoped>\n",
       "    .dataframe tbody tr th:only-of-type {\n",
       "        vertical-align: middle;\n",
       "    }\n",
       "\n",
       "    .dataframe tbody tr th {\n",
       "        vertical-align: top;\n",
       "    }\n",
       "\n",
       "    .dataframe thead th {\n",
       "        text-align: right;\n",
       "    }\n",
       "</style>\n",
       "<table border=\"1\" class=\"dataframe\">\n",
       "  <thead>\n",
       "    <tr style=\"text-align: right;\">\n",
       "      <th>AirPollutant</th>\n",
       "      <th>datebegin</th>\n",
       "      <th>Country</th>\n",
       "      <th>NO2</th>\n",
       "      <th>PM10</th>\n",
       "      <th>PM2.5</th>\n",
       "    </tr>\n",
       "  </thead>\n",
       "  <tbody>\n",
       "    <tr>\n",
       "      <th>1</th>\n",
       "      <td>736695</td>\n",
       "      <td>0</td>\n",
       "      <td>17.7</td>\n",
       "      <td>6.7</td>\n",
       "      <td>4.3</td>\n",
       "    </tr>\n",
       "    <tr>\n",
       "      <th>2</th>\n",
       "      <td>736695</td>\n",
       "      <td>1</td>\n",
       "      <td>11.5</td>\n",
       "      <td>27.6</td>\n",
       "      <td>18.8</td>\n",
       "    </tr>\n",
       "    <tr>\n",
       "      <th>3</th>\n",
       "      <td>736695</td>\n",
       "      <td>2</td>\n",
       "      <td>10.2</td>\n",
       "      <td>8.2</td>\n",
       "      <td>6.6</td>\n",
       "    </tr>\n",
       "    <tr>\n",
       "      <th>4</th>\n",
       "      <td>736695</td>\n",
       "      <td>3</td>\n",
       "      <td>18.8</td>\n",
       "      <td>13.3</td>\n",
       "      <td>5.9</td>\n",
       "    </tr>\n",
       "    <tr>\n",
       "      <th>5</th>\n",
       "      <td>736695</td>\n",
       "      <td>4</td>\n",
       "      <td>22.0</td>\n",
       "      <td>22.7</td>\n",
       "      <td>24.1</td>\n",
       "    </tr>\n",
       "    <tr>\n",
       "      <th>6</th>\n",
       "      <td>736695</td>\n",
       "      <td>5</td>\n",
       "      <td>6.8</td>\n",
       "      <td>11.3</td>\n",
       "      <td>6.0</td>\n",
       "    </tr>\n",
       "    <tr>\n",
       "      <th>7</th>\n",
       "      <td>736695</td>\n",
       "      <td>6</td>\n",
       "      <td>42.9</td>\n",
       "      <td>76.2</td>\n",
       "      <td>41.9</td>\n",
       "    </tr>\n",
       "    <tr>\n",
       "      <th>8</th>\n",
       "      <td>736695</td>\n",
       "      <td>7</td>\n",
       "      <td>23.6</td>\n",
       "      <td>23.0</td>\n",
       "      <td>15.0</td>\n",
       "    </tr>\n",
       "    <tr>\n",
       "      <th>9</th>\n",
       "      <td>736695</td>\n",
       "      <td>8</td>\n",
       "      <td>43.5</td>\n",
       "      <td>58.9</td>\n",
       "      <td>39.0</td>\n",
       "    </tr>\n",
       "    <tr>\n",
       "      <th>10</th>\n",
       "      <td>736695</td>\n",
       "      <td>9</td>\n",
       "      <td>45.5</td>\n",
       "      <td>46.1</td>\n",
       "      <td>27.8</td>\n",
       "    </tr>\n",
       "  </tbody>\n",
       "</table>\n",
       "</div>"
      ],
      "text/plain": [
       "AirPollutant  datebegin  Country   NO2  PM10  PM2.5\n",
       "1                736695        0  17.7   6.7    4.3\n",
       "2                736695        1  11.5  27.6   18.8\n",
       "3                736695        2  10.2   8.2    6.6\n",
       "4                736695        3  18.8  13.3    5.9\n",
       "5                736695        4  22.0  22.7   24.1\n",
       "6                736695        5   6.8  11.3    6.0\n",
       "7                736695        6  42.9  76.2   41.9\n",
       "8                736695        7  23.6  23.0   15.0\n",
       "9                736695        8  43.5  58.9   39.0\n",
       "10               736695        9  45.5  46.1   27.8"
      ]
     },
     "execution_count": 80,
     "metadata": {},
     "output_type": "execute_result"
    }
   ],
   "source": [
    "df_le = df_prelockdown\n",
    "df_le.Country = le.fit_transform(df_le.Country)\n",
    "df_le.head(10)"
   ]
  },
  {
   "cell_type": "code",
   "execution_count": 81,
   "metadata": {},
   "outputs": [],
   "source": [
    "X = df_le[[\"datebegin\",\"Country\"]]\n",
    "y = df_le[\"NO2\"]"
   ]
  },
  {
   "cell_type": "code",
   "execution_count": 82,
   "metadata": {},
   "outputs": [],
   "source": [
    "X_train, X_test, y_train, y_test = train_test_split(X, y, random_state=47)"
   ]
  },
  {
   "cell_type": "code",
   "execution_count": 83,
   "metadata": {},
   "outputs": [
    {
     "name": "stdout",
     "output_type": "stream",
     "text": [
      "X_train shape:  (6408, 2)\n",
      "y_train shape:  (6408,)\n",
      "X_test shape:  (2137, 2)\n",
      "y_test shape:  (2137,)\n"
     ]
    }
   ],
   "source": [
    "print(\"X_train shape: \", X_train.shape)\n",
    "print(\"y_train shape: \", y_train.shape)\n",
    "print(\"X_test shape: \", X_test.shape)\n",
    "print(\"y_test shape: \", y_test.shape)"
   ]
  },
  {
   "cell_type": "code",
   "execution_count": 84,
   "metadata": {},
   "outputs": [
    {
     "data": {
      "text/plain": [
       "LinearRegression(copy_X=True, fit_intercept=True, n_jobs=None, normalize=False)"
      ]
     },
     "execution_count": 84,
     "metadata": {},
     "output_type": "execute_result"
    }
   ],
   "source": [
    "lr = LinearRegression()\n",
    "lr.fit(X_train, y_train)"
   ]
  },
  {
   "cell_type": "code",
   "execution_count": 85,
   "metadata": {},
   "outputs": [],
   "source": [
    "predicted = lr.predict(X_test)"
   ]
  },
  {
   "cell_type": "code",
   "execution_count": 86,
   "metadata": {},
   "outputs": [
    {
     "name": "stdout",
     "output_type": "stream",
     "text": [
      "R Squared: 0.04517163326838458\n"
     ]
    }
   ],
   "source": [
    "r2 = r2_score(y_test, predicted)\n",
    "print(\"R Squared:\", r2)"
   ]
  },
  {
   "cell_type": "markdown",
   "metadata": {},
   "source": [
    "### Making predictions"
   ]
  },
  {
   "cell_type": "code",
   "execution_count": 87,
   "metadata": {},
   "outputs": [],
   "source": [
    "dat1=[\"2020-06-08\",\"2020-06-12\"]\n",
    "dat2=['6','6']\n",
    "data1 = {\n",
    "        'datebegin':dat1,\n",
    "        'Country':dat2\n",
    "         }\n",
    "df1 = pd.DataFrame(data1, columns = ['datebegin','Country'])\n",
    "df1['datebegin'] = pd.to_datetime(df1['datebegin'])\n",
    "df1['datebegin'] = df1['datebegin'].map(dt.datetime.toordinal)"
   ]
  },
  {
   "cell_type": "code",
   "execution_count": 88,
   "metadata": {},
   "outputs": [
    {
     "name": "stdout",
     "output_type": "stream",
     "text": [
      "The prediction of NO2 for 2020-06-08 and 2020-06-12 is : [24.54696973 24.5061045 ]\n"
     ]
    }
   ],
   "source": [
    "print('The prediction of NO2 for 2020-06-08 and 2020-06-12 is :', lr.predict(df1))"
   ]
  },
  {
   "cell_type": "markdown",
   "metadata": {},
   "source": [
    "## Model for PM 10 values pre-lockdown"
   ]
  },
  {
   "cell_type": "code",
   "execution_count": 89,
   "metadata": {},
   "outputs": [],
   "source": [
    "X = df_le[[\"datebegin\",\"Country\"]]\n",
    "y = df_le[\"PM10\"]"
   ]
  },
  {
   "cell_type": "code",
   "execution_count": 90,
   "metadata": {},
   "outputs": [],
   "source": [
    "X_train, X_test, y_train, y_test = train_test_split(X, y, random_state=47)"
   ]
  },
  {
   "cell_type": "code",
   "execution_count": 91,
   "metadata": {},
   "outputs": [
    {
     "name": "stdout",
     "output_type": "stream",
     "text": [
      "X_train shape:  (6408, 2)\n",
      "y_train shape:  (6408,)\n",
      "X_test shape:  (2137, 2)\n",
      "y_test shape:  (2137,)\n"
     ]
    }
   ],
   "source": [
    "print(\"X_train shape: \", X_train.shape)\n",
    "print(\"y_train shape: \", y_train.shape)\n",
    "print(\"X_test shape: \", X_test.shape)\n",
    "print(\"y_test shape: \", y_test.shape)"
   ]
  },
  {
   "cell_type": "code",
   "execution_count": 92,
   "metadata": {},
   "outputs": [
    {
     "data": {
      "text/plain": [
       "LinearRegression(copy_X=True, fit_intercept=True, n_jobs=None, normalize=False)"
      ]
     },
     "execution_count": 92,
     "metadata": {},
     "output_type": "execute_result"
    }
   ],
   "source": [
    "lr = LinearRegression()\n",
    "lr.fit(X_train, y_train)"
   ]
  },
  {
   "cell_type": "code",
   "execution_count": 93,
   "metadata": {},
   "outputs": [],
   "source": [
    "predicted = lr.predict(X_test)"
   ]
  },
  {
   "cell_type": "code",
   "execution_count": 94,
   "metadata": {},
   "outputs": [
    {
     "name": "stdout",
     "output_type": "stream",
     "text": [
      "R Squared: 0.017482521515218452\n"
     ]
    }
   ],
   "source": [
    "r2 = r2_score(y_test, predicted)\n",
    "print(\"R Squared:\", r2)"
   ]
  },
  {
   "cell_type": "markdown",
   "metadata": {},
   "source": [
    "### Making predicitons"
   ]
  },
  {
   "cell_type": "code",
   "execution_count": 95,
   "metadata": {},
   "outputs": [],
   "source": [
    "dat1=[\"2020-06-08\",\"2020-06-12\"]\n",
    "dat2=['6','6']\n",
    "data1 = {\n",
    "        'datebegin':dat1,\n",
    "        'Country':dat2\n",
    "         }\n",
    "df1 = pd.DataFrame(data1, columns = ['datebegin','Country'])\n",
    "df1['datebegin'] = pd.to_datetime(df1['datebegin'])\n",
    "df1['datebegin'] = df1['datebegin'].map(dt.datetime.toordinal)"
   ]
  },
  {
   "cell_type": "code",
   "execution_count": 96,
   "metadata": {},
   "outputs": [
    {
     "name": "stdout",
     "output_type": "stream",
     "text": [
      "The prediction of PM10 for 2020-06-08 and 2020-06-12 is : [17.52239829 17.49112133]\n"
     ]
    }
   ],
   "source": [
    "print('The prediction of PM10 for 2020-06-08 and 2020-06-12 is :', lr.predict(df1))"
   ]
  },
  {
   "cell_type": "markdown",
   "metadata": {},
   "source": [
    "## Model for PM 2.5 values pre-lockdown"
   ]
  },
  {
   "cell_type": "code",
   "execution_count": 97,
   "metadata": {},
   "outputs": [],
   "source": [
    "X = df_le[[\"datebegin\",\"Country\"]]\n",
    "y = df_le[\"PM2.5\"]"
   ]
  },
  {
   "cell_type": "code",
   "execution_count": 98,
   "metadata": {},
   "outputs": [],
   "source": [
    "X_train, X_test, y_train, y_test = train_test_split(X, y, random_state=47)"
   ]
  },
  {
   "cell_type": "code",
   "execution_count": 99,
   "metadata": {},
   "outputs": [
    {
     "name": "stdout",
     "output_type": "stream",
     "text": [
      "X_train shape:  (6408, 2)\n",
      "y_train shape:  (6408,)\n",
      "X_test shape:  (2137, 2)\n",
      "y_test shape:  (2137,)\n"
     ]
    }
   ],
   "source": [
    "print(\"X_train shape: \", X_train.shape)\n",
    "print(\"y_train shape: \", y_train.shape)\n",
    "print(\"X_test shape: \", X_test.shape)\n",
    "print(\"y_test shape: \", y_test.shape)"
   ]
  },
  {
   "cell_type": "code",
   "execution_count": 100,
   "metadata": {},
   "outputs": [
    {
     "data": {
      "text/plain": [
       "LinearRegression(copy_X=True, fit_intercept=True, n_jobs=None, normalize=False)"
      ]
     },
     "execution_count": 100,
     "metadata": {},
     "output_type": "execute_result"
    }
   ],
   "source": [
    "lr = LinearRegression()\n",
    "lr.fit(X_train, y_train)"
   ]
  },
  {
   "cell_type": "code",
   "execution_count": 101,
   "metadata": {},
   "outputs": [],
   "source": [
    "predicted = lr.predict(X_test)"
   ]
  },
  {
   "cell_type": "code",
   "execution_count": 102,
   "metadata": {},
   "outputs": [
    {
     "name": "stdout",
     "output_type": "stream",
     "text": [
      "R Squared: 0.023208156311190886\n"
     ]
    }
   ],
   "source": [
    "r2 = r2_score(y_test, predicted)\n",
    "print(\"R Squared:\", r2)"
   ]
  },
  {
   "cell_type": "markdown",
   "metadata": {},
   "source": [
    "### Making predicitions"
   ]
  },
  {
   "cell_type": "code",
   "execution_count": 103,
   "metadata": {},
   "outputs": [],
   "source": [
    "dat1=[\"2020-06-08\",\"2020-06-12\"]\n",
    "dat2=['6','6']\n",
    "data1 = {\n",
    "        'datebegin':dat1,\n",
    "        'Country':dat2\n",
    "         }\n",
    "df1 = pd.DataFrame(data1, columns = ['datebegin','Country'])\n",
    "df1['datebegin'] = pd.to_datetime(df1['datebegin'])\n",
    "df1['datebegin'] = df1['datebegin'].map(dt.datetime.toordinal)"
   ]
  },
  {
   "cell_type": "code",
   "execution_count": 104,
   "metadata": {},
   "outputs": [
    {
     "name": "stdout",
     "output_type": "stream",
     "text": [
      "The prediction of PM2.5 for 2020-06-08 and 2020-06-12 is : [9.64407851 9.62072072]\n"
     ]
    }
   ],
   "source": [
    "print('The prediction of PM2.5 for 2020-06-08 and 2020-06-12 is :', lr.predict(df1))"
   ]
  },
  {
   "cell_type": "markdown",
   "metadata": {},
   "source": [
    "## Model for NO2 during lockdown"
   ]
  },
  {
   "cell_type": "code",
   "execution_count": 105,
   "metadata": {},
   "outputs": [
    {
     "data": {
      "text/html": [
       "<div>\n",
       "<style scoped>\n",
       "    .dataframe tbody tr th:only-of-type {\n",
       "        vertical-align: middle;\n",
       "    }\n",
       "\n",
       "    .dataframe tbody tr th {\n",
       "        vertical-align: top;\n",
       "    }\n",
       "\n",
       "    .dataframe thead th {\n",
       "        text-align: right;\n",
       "    }\n",
       "</style>\n",
       "<table border=\"1\" class=\"dataframe\">\n",
       "  <thead>\n",
       "    <tr style=\"text-align: right;\">\n",
       "      <th>AirPollutant</th>\n",
       "      <th>datebegin</th>\n",
       "      <th>Country</th>\n",
       "      <th>NO2</th>\n",
       "      <th>PM10</th>\n",
       "      <th>PM2.5</th>\n",
       "    </tr>\n",
       "  </thead>\n",
       "  <tbody>\n",
       "    <tr>\n",
       "      <th>1</th>\n",
       "      <td>737425</td>\n",
       "      <td>0</td>\n",
       "      <td>22.4</td>\n",
       "      <td>19.7</td>\n",
       "      <td>19.3</td>\n",
       "    </tr>\n",
       "    <tr>\n",
       "      <th>2</th>\n",
       "      <td>737425</td>\n",
       "      <td>1</td>\n",
       "      <td>9.6</td>\n",
       "      <td>20.4</td>\n",
       "      <td>10.5</td>\n",
       "    </tr>\n",
       "    <tr>\n",
       "      <th>3</th>\n",
       "      <td>737425</td>\n",
       "      <td>2</td>\n",
       "      <td>10.4</td>\n",
       "      <td>9.7</td>\n",
       "      <td>5.5</td>\n",
       "    </tr>\n",
       "    <tr>\n",
       "      <th>6</th>\n",
       "      <td>737425</td>\n",
       "      <td>3</td>\n",
       "      <td>33.8</td>\n",
       "      <td>32.4</td>\n",
       "      <td>36.4</td>\n",
       "    </tr>\n",
       "    <tr>\n",
       "      <th>7</th>\n",
       "      <td>737425</td>\n",
       "      <td>5</td>\n",
       "      <td>27.5</td>\n",
       "      <td>96.5</td>\n",
       "      <td>73.0</td>\n",
       "    </tr>\n",
       "  </tbody>\n",
       "</table>\n",
       "</div>"
      ],
      "text/plain": [
       "AirPollutant  datebegin  Country   NO2  PM10  PM2.5\n",
       "1                737425        0  22.4  19.7   19.3\n",
       "2                737425        1   9.6  20.4   10.5\n",
       "3                737425        2  10.4   9.7    5.5\n",
       "6                737425        3  33.8  32.4   36.4\n",
       "7                737425        5  27.5  96.5   73.0"
      ]
     },
     "execution_count": 105,
     "metadata": {},
     "output_type": "execute_result"
    }
   ],
   "source": [
    "df_le = df_duringlockdown\n",
    "df_le.Country = le.fit_transform(df_le.Country)\n",
    "df_le.head(5)"
   ]
  },
  {
   "cell_type": "code",
   "execution_count": 106,
   "metadata": {},
   "outputs": [],
   "source": [
    "X = df_le[[\"datebegin\",\"Country\"]]\n",
    "y = df_le[\"NO2\"]"
   ]
  },
  {
   "cell_type": "code",
   "execution_count": 107,
   "metadata": {},
   "outputs": [],
   "source": [
    "X_train, X_test, y_train, y_test = train_test_split(X, y, random_state=47)"
   ]
  },
  {
   "cell_type": "code",
   "execution_count": 108,
   "metadata": {},
   "outputs": [
    {
     "name": "stdout",
     "output_type": "stream",
     "text": [
      "X_train shape:  (1026, 2)\n",
      "y_train shape:  (1026,)\n",
      "X_test shape:  (342, 2)\n",
      "y_test shape:  (342,)\n"
     ]
    }
   ],
   "source": [
    "print(\"X_train shape: \", X_train.shape)\n",
    "print(\"y_train shape: \", y_train.shape)\n",
    "print(\"X_test shape: \", X_test.shape)\n",
    "print(\"y_test shape: \", y_test.shape)"
   ]
  },
  {
   "cell_type": "code",
   "execution_count": 109,
   "metadata": {},
   "outputs": [
    {
     "data": {
      "text/plain": [
       "LinearRegression(copy_X=True, fit_intercept=True, n_jobs=None, normalize=False)"
      ]
     },
     "execution_count": 109,
     "metadata": {},
     "output_type": "execute_result"
    }
   ],
   "source": [
    "lr = LinearRegression()\n",
    "lr.fit(X_train, y_train)"
   ]
  },
  {
   "cell_type": "code",
   "execution_count": 110,
   "metadata": {},
   "outputs": [],
   "source": [
    "predicted = lr.predict(X_test)"
   ]
  },
  {
   "cell_type": "code",
   "execution_count": 111,
   "metadata": {},
   "outputs": [
    {
     "name": "stdout",
     "output_type": "stream",
     "text": [
      "R Squared: 0.22244059904506952\n"
     ]
    }
   ],
   "source": [
    "r2 = r2_score(y_test, predicted)\n",
    "print(\"R Squared:\", r2)"
   ]
  },
  {
   "cell_type": "markdown",
   "metadata": {},
   "source": [
    "### Making predictions"
   ]
  },
  {
   "cell_type": "code",
   "execution_count": 112,
   "metadata": {},
   "outputs": [],
   "source": [
    "dat1=[\"2020-06-08\",\"2020-06-12\"]\n",
    "dat2=['6','6']\n",
    "data1 = {\n",
    "        'datebegin':dat1,\n",
    "        'Country':dat2\n",
    "         }\n",
    "df1 = pd.DataFrame(data1, columns = ['datebegin','Country'])\n",
    "df1['datebegin'] = pd.to_datetime(df1['datebegin'])\n",
    "df1['datebegin'] = df1['datebegin'].map(dt.datetime.toordinal)"
   ]
  },
  {
   "cell_type": "code",
   "execution_count": 113,
   "metadata": {},
   "outputs": [
    {
     "name": "stdout",
     "output_type": "stream",
     "text": [
      "The prediction of NO2 for 2020-06-08 and 2020-06-12 is : [13.7578185  13.33873945]\n"
     ]
    }
   ],
   "source": [
    "print('The prediction of NO2 for 2020-06-08 and 2020-06-12 is :', lr.predict(df1))"
   ]
  },
  {
   "cell_type": "markdown",
   "metadata": {},
   "source": [
    "## Model for PM10 during lockdown"
   ]
  },
  {
   "cell_type": "code",
   "execution_count": 114,
   "metadata": {},
   "outputs": [],
   "source": [
    "X = df_le[[\"datebegin\",\"Country\"]]\n",
    "y = df_le[\"PM10\"]"
   ]
  },
  {
   "cell_type": "code",
   "execution_count": 115,
   "metadata": {},
   "outputs": [],
   "source": [
    "X_train, X_test, y_train, y_test = train_test_split(X, y, random_state=47)"
   ]
  },
  {
   "cell_type": "code",
   "execution_count": 116,
   "metadata": {},
   "outputs": [
    {
     "name": "stdout",
     "output_type": "stream",
     "text": [
      "X_train shape:  (1026, 2)\n",
      "y_train shape:  (1026,)\n",
      "X_test shape:  (342, 2)\n",
      "y_test shape:  (342,)\n"
     ]
    }
   ],
   "source": [
    "print(\"X_train shape: \", X_train.shape)\n",
    "print(\"y_train shape: \", y_train.shape)\n",
    "print(\"X_test shape: \", X_test.shape)\n",
    "print(\"y_test shape: \", y_test.shape)"
   ]
  },
  {
   "cell_type": "code",
   "execution_count": 117,
   "metadata": {},
   "outputs": [
    {
     "data": {
      "text/plain": [
       "LinearRegression(copy_X=True, fit_intercept=True, n_jobs=None, normalize=False)"
      ]
     },
     "execution_count": 117,
     "metadata": {},
     "output_type": "execute_result"
    }
   ],
   "source": [
    "lr = LinearRegression()\n",
    "lr.fit(X_train, y_train)"
   ]
  },
  {
   "cell_type": "code",
   "execution_count": 118,
   "metadata": {},
   "outputs": [],
   "source": [
    "predicted = lr.predict(X_test)"
   ]
  },
  {
   "cell_type": "code",
   "execution_count": 119,
   "metadata": {},
   "outputs": [
    {
     "name": "stdout",
     "output_type": "stream",
     "text": [
      "R Squared: 0.009327819287342054\n"
     ]
    }
   ],
   "source": [
    "r2 = r2_score(y_test, predicted)\n",
    "print(\"R Squared:\", r2)"
   ]
  },
  {
   "cell_type": "markdown",
   "metadata": {},
   "source": [
    "### Making predictions"
   ]
  },
  {
   "cell_type": "code",
   "execution_count": 120,
   "metadata": {},
   "outputs": [],
   "source": [
    "dat1=[\"2020-06-08\",\"2020-06-12\"]\n",
    "dat2=['6','6']\n",
    "data1 = {\n",
    "        'datebegin':dat1,\n",
    "        'Country':dat2\n",
    "         }\n",
    "df1 = pd.DataFrame(data1, columns = ['datebegin','Country'])\n",
    "df1['datebegin'] = pd.to_datetime(df1['datebegin'])\n",
    "df1['datebegin'] = df1['datebegin'].map(dt.datetime.toordinal)"
   ]
  },
  {
   "cell_type": "code",
   "execution_count": 121,
   "metadata": {},
   "outputs": [
    {
     "name": "stdout",
     "output_type": "stream",
     "text": [
      "The prediction of PM10 for 2020-06-08 and 2020-06-12 is : [15.94020938 15.81419176]\n"
     ]
    }
   ],
   "source": [
    "print('The prediction of PM10 for 2020-06-08 and 2020-06-12 is :', lr.predict(df1))"
   ]
  },
  {
   "cell_type": "markdown",
   "metadata": {},
   "source": [
    "## Model for PM2.5 during lockdown"
   ]
  },
  {
   "cell_type": "code",
   "execution_count": 122,
   "metadata": {},
   "outputs": [],
   "source": [
    "X = df_le[[\"datebegin\",\"Country\"]]\n",
    "y = df_le[\"PM2.5\"]"
   ]
  },
  {
   "cell_type": "code",
   "execution_count": 123,
   "metadata": {},
   "outputs": [],
   "source": [
    "X_train, X_test, y_train, y_test = train_test_split(X, y, random_state=47)"
   ]
  },
  {
   "cell_type": "code",
   "execution_count": 124,
   "metadata": {},
   "outputs": [
    {
     "name": "stdout",
     "output_type": "stream",
     "text": [
      "X_train shape:  (1026, 2)\n",
      "y_train shape:  (1026,)\n",
      "X_test shape:  (342, 2)\n",
      "y_test shape:  (342,)\n"
     ]
    }
   ],
   "source": [
    "print(\"X_train shape: \", X_train.shape)\n",
    "print(\"y_train shape: \", y_train.shape)\n",
    "print(\"X_test shape: \", X_test.shape)\n",
    "print(\"y_test shape: \", y_test.shape)"
   ]
  },
  {
   "cell_type": "code",
   "execution_count": 125,
   "metadata": {},
   "outputs": [
    {
     "data": {
      "text/plain": [
       "LinearRegression(copy_X=True, fit_intercept=True, n_jobs=None, normalize=False)"
      ]
     },
     "execution_count": 125,
     "metadata": {},
     "output_type": "execute_result"
    }
   ],
   "source": [
    "lr = LinearRegression()\n",
    "lr.fit(X_train, y_train)"
   ]
  },
  {
   "cell_type": "code",
   "execution_count": 126,
   "metadata": {},
   "outputs": [],
   "source": [
    "predicted = lr.predict(X_test)"
   ]
  },
  {
   "cell_type": "code",
   "execution_count": 127,
   "metadata": {},
   "outputs": [
    {
     "name": "stdout",
     "output_type": "stream",
     "text": [
      "R Squared: 0.04562813975673752\n"
     ]
    }
   ],
   "source": [
    "r2 = r2_score(y_test, predicted)\n",
    "print(\"R Squared:\", r2)"
   ]
  },
  {
   "cell_type": "markdown",
   "metadata": {},
   "source": [
    "### Making predictions"
   ]
  },
  {
   "cell_type": "code",
   "execution_count": 128,
   "metadata": {},
   "outputs": [],
   "source": [
    "dat1=[\"2020-06-08\",\"2020-06-12\"]\n",
    "dat2=['6','6']\n",
    "data1 = {\n",
    "        'datebegin':dat1,\n",
    "        'Country':dat2\n",
    "         }\n",
    "df1 = pd.DataFrame(data1, columns = ['datebegin','Country'])\n",
    "df1['datebegin'] = pd.to_datetime(df1['datebegin'])\n",
    "df1['datebegin'] = df1['datebegin'].map(dt.datetime.toordinal)"
   ]
  },
  {
   "cell_type": "code",
   "execution_count": 129,
   "metadata": {},
   "outputs": [
    {
     "name": "stdout",
     "output_type": "stream",
     "text": [
      "The prediction of PM2.5 for 2020-06-08 and 2020-06-12 is : [7.70870063 7.55034844]\n"
     ]
    }
   ],
   "source": [
    "print('The prediction of PM2.5 for 2020-06-08 and 2020-06-12 is :', lr.predict(df1))"
   ]
  },
  {
   "cell_type": "markdown",
   "metadata": {},
   "source": [
    "### ARIMA Model for Italy\n",
    "ARIMA model, we can forecast a time series using the series previous values. A time series is a sequence of metric which is recorded over regular time intervals depending on the frequency, a time series can be of yearly,monthly and quaterly, daily and hourly. ARIMA, short for Auto Regressive Integrated Moving Average is actually a class of models which explains given time series based on its own previous values, that is its own lags and the lagged forecast errors, so it will be used to forecast future values. An ARIMA model is characterized by 3 terms: p, d, q. p."
   ]
  },
  {
   "cell_type": "code",
   "execution_count": 130,
   "metadata": {},
   "outputs": [],
   "source": [
    "data = df\n",
    "data = data[data.AirPollutant == 'PM10']\n",
    "data = data[data.Country == 'Italy']"
   ]
  },
  {
   "cell_type": "code",
   "execution_count": 131,
   "metadata": {},
   "outputs": [],
   "source": [
    "data['Date'] = pd.to_datetime(data['datebegin'], infer_datetime_format = True)"
   ]
  },
  {
   "cell_type": "code",
   "execution_count": 132,
   "metadata": {},
   "outputs": [],
   "source": [
    "data = data.set_index(['Date'])"
   ]
  },
  {
   "cell_type": "code",
   "execution_count": 133,
   "metadata": {},
   "outputs": [],
   "source": [
    "data = data.drop(columns=['AirPollutant','FilterStation','Country','TypeOfMeasurementStation','City','validity_notation'])"
   ]
  },
  {
   "cell_type": "code",
   "execution_count": 134,
   "metadata": {},
   "outputs": [],
   "source": [
    "data = data.groupby(pd.Grouper(freq = 'M')).mean() "
   ]
  },
  {
   "cell_type": "code",
   "execution_count": 135,
   "metadata": {},
   "outputs": [
    {
     "data": {
      "text/html": [
       "<div>\n",
       "<style scoped>\n",
       "    .dataframe tbody tr th:only-of-type {\n",
       "        vertical-align: middle;\n",
       "    }\n",
       "\n",
       "    .dataframe tbody tr th {\n",
       "        vertical-align: top;\n",
       "    }\n",
       "\n",
       "    .dataframe thead th {\n",
       "        text-align: right;\n",
       "    }\n",
       "</style>\n",
       "<table border=\"1\" class=\"dataframe\">\n",
       "  <thead>\n",
       "    <tr style=\"text-align: right;\">\n",
       "      <th></th>\n",
       "      <th>AirQualityLevel</th>\n",
       "    </tr>\n",
       "    <tr>\n",
       "      <th>Date</th>\n",
       "      <th></th>\n",
       "    </tr>\n",
       "  </thead>\n",
       "  <tbody>\n",
       "    <tr>\n",
       "      <th>2018-01-31</th>\n",
       "      <td>34.572222</td>\n",
       "    </tr>\n",
       "    <tr>\n",
       "      <th>2018-02-28</th>\n",
       "      <td>25.848485</td>\n",
       "    </tr>\n",
       "    <tr>\n",
       "      <th>2018-03-31</th>\n",
       "      <td>24.061453</td>\n",
       "    </tr>\n",
       "    <tr>\n",
       "      <th>2018-04-30</th>\n",
       "      <td>31.810734</td>\n",
       "    </tr>\n",
       "    <tr>\n",
       "      <th>2018-05-31</th>\n",
       "      <td>23.016260</td>\n",
       "    </tr>\n",
       "  </tbody>\n",
       "</table>\n",
       "</div>"
      ],
      "text/plain": [
       "            AirQualityLevel\n",
       "Date                       \n",
       "2018-01-31        34.572222\n",
       "2018-02-28        25.848485\n",
       "2018-03-31        24.061453\n",
       "2018-04-30        31.810734\n",
       "2018-05-31        23.016260"
      ]
     },
     "execution_count": 135,
     "metadata": {},
     "output_type": "execute_result"
    }
   ],
   "source": [
    "data.head()"
   ]
  },
  {
   "cell_type": "code",
   "execution_count": 136,
   "metadata": {},
   "outputs": [
    {
     "data": {
      "image/png": "[encoded data removed]",
      "text/plain": [
       "<Figure size 432x288 with 1 Axes>"
      ]
     },
     "metadata": {
      "needs_background": "light"
     },
     "output_type": "display_data"
    }
   ],
   "source": [
    "data.plot()\n",
    "plt.show()"
   ]
  },
  {
   "cell_type": "markdown",
   "metadata": {},
   "source": [
    "Here we are conducting the Augmented Dickey Fuller test to check whether the data is stationary or not."
   ]
  },
  {
   "cell_type": "code",
   "execution_count": 137,
   "metadata": {},
   "outputs": [
    {
     "name": "stdout",
     "output_type": "stream",
     "text": [
      "Results:\n",
      "Test Stat             -6.020331e+00\n",
      "P-value                1.499066e-07\n",
      "Lags used              0.000000e+00\n",
      "Obsevations            3.500000e+01\n",
      "Critical value(1%)    -3.632743e+00\n",
      "Critical value(5%)    -2.948510e+00\n",
      "Critical value(10%)   -2.613017e+00\n",
      "dtype: float64\n"
     ]
    }
   ],
   "source": [
    "from statsmodels.tsa.stattools import adfuller\n",
    "print('Results:')\n",
    "dftest = adfuller(data['AirQualityLevel'], autolag = 'AIC')\n",
    "dfoutput = pd.Series(dftest[0:4], index = ['Test Stat', 'P-value', 'Lags used', 'Obsevations'])\n",
    "for key,value in dftest[4].items():\n",
    "    dfoutput['Critical value(%s)'%key] = value\n",
    "print(dfoutput)"
   ]
  },
  {
   "cell_type": "markdown",
   "metadata": {},
   "source": [
    "P-value is less than 0.05 and the critical values are greater than Test stats, So we are rejecting null hypothesis and can be concluded as the data is stationary. Stationary means mean, variance and covariance is constant over the period."
   ]
  },
  {
   "cell_type": "code",
   "execution_count": 138,
   "metadata": {},
   "outputs": [
    {
     "data": {
      "image/png": "[encoded data removed]",
      "text/plain": [
       "<Figure size 432x288 with 1 Axes>"
      ]
     },
     "execution_count": 138,
     "metadata": {},
     "output_type": "execute_result"
    },
    {
     "data": {
      "image/png": "[encoded data removed]",
      "text/plain": [
       "<Figure size 432x288 with 1 Axes>"
      ]
     },
     "metadata": {
      "needs_background": "light"
     },
     "output_type": "display_data"
    }
   ],
   "source": [
    "from statsmodels.graphics.tsaplots import plot_acf\n",
    "plot_acf(data)"
   ]
  },
  {
   "cell_type": "markdown",
   "metadata": {},
   "source": [
    "By observing the above graph, we can say that the series is stationary, there is no trend."
   ]
  },
  {
   "cell_type": "markdown",
   "metadata": {},
   "source": [
    "Here we are using ARIMA model and it is having three parameters. p is the months taken for autoregression model. d is the order of integration and q is the period in moving average model."
   ]
  },
  {
   "cell_type": "code",
   "execution_count": 139,
   "metadata": {},
   "outputs": [],
   "source": [
    "from statsmodels.tsa.arima_model import ARIMA\n",
    "#ARIMA model\n",
    "model = ARIMA(data, order = (12,0,0))\n",
    "result_ARIMA = model.fit()\n",
    "predictions_ARIMA = pd.Series(result_ARIMA.fittedvalues, copy = True)"
   ]
  },
  {
   "cell_type": "code",
   "execution_count": 140,
   "metadata": {},
   "outputs": [
    {
     "data": {
      "text/plain": [
       "[<matplotlib.lines.Line2D at 0x240598be348>]"
      ]
     },
     "execution_count": 140,
     "metadata": {},
     "output_type": "execute_result"
    },
    {
     "data": {
      "image/png": "[encoded data removed]",
      "text/plain": [
       "<Figure size 432x288 with 1 Axes>"
      ]
     },
     "metadata": {
      "needs_background": "light"
     },
     "output_type": "display_data"
    }
   ],
   "source": [
    "plt.plot(data)\n",
    "plt.plot(predictions_ARIMA,color = 'red')"
   ]
  },
  {
   "cell_type": "code",
   "execution_count": 141,
   "metadata": {},
   "outputs": [
    {
     "data": {
      "image/png": "[encoded data removed]",
      "text/plain": [
       "<Figure size 432x288 with 1 Axes>"
      ]
     },
     "execution_count": 141,
     "metadata": {},
     "output_type": "execute_result"
    },
    {
     "data": {
      "image/png": "[encoded data removed]",
      "text/plain": [
       "<Figure size 432x288 with 1 Axes>"
      ]
     },
     "metadata": {
      "needs_background": "light"
     },
     "output_type": "display_data"
    }
   ],
   "source": [
    "result_ARIMA.plot_predict(1,50)"
   ]
  },
  {
   "cell_type": "markdown",
   "metadata": {},
   "source": [
    "The MSE values closer to zero are better."
   ]
  },
  {
   "cell_type": "code",
   "execution_count": 142,
   "metadata": {},
   "outputs": [
    {
     "name": "stdout",
     "output_type": "stream",
     "text": [
      "MAE:  2.635685951551695\n",
      "MSE:  12.462892031218821\n",
      "RMSE:  3.5302821461207348\n"
     ]
    }
   ],
   "source": [
    "from sklearn import metrics\n",
    "print('MAE: ',metrics.mean_absolute_error(data,predictions_ARIMA))\n",
    "print('MSE: ',metrics.mean_squared_error(data,predictions_ARIMA))\n",
    "print('RMSE: ',np.sqrt(metrics.mean_squared_error(data,predictions_ARIMA)))"
   ]
  },
  {
   "cell_type": "markdown",
   "metadata": {},
   "source": [
    "Predictions for next five months"
   ]
  },
  {
   "cell_type": "code",
   "execution_count": 143,
   "metadata": {},
   "outputs": [
    {
     "data": {
      "text/plain": [
       "(array([24.20925335, 25.64405067, 23.52397571, 23.36563353, 23.59671853]),\n",
       " array([3.39715341, 3.39834329, 3.41288051, 3.4440034 , 3.4572439 ]),\n",
       " array([[17.550955  , 30.86755169],\n",
       "        [18.98342022, 32.30468113],\n",
       "        [16.83485283, 30.2130986 ],\n",
       "        [16.6155109 , 30.11575616],\n",
       "        [16.82064501, 30.37279206]]))"
      ]
     },
     "execution_count": 143,
     "metadata": {},
     "output_type": "execute_result"
    }
   ],
   "source": [
    "result_ARIMA.forecast(steps = 5)"
   ]
  },
  {
   "cell_type": "markdown",
   "metadata": {},
   "source": [
    "### CONCLUSIONS\n",
    "\n",
    "**Multiple Linear Regression Model**\n",
    "\n",
    "To conclude, we have performed Multiple Linear Regression on the particulate matter(y variable) and days(x variable) for any particular country(unique value) and results given have a significant accuracy for both pre lock down models and post lock down models\n",
    "\n",
    "The **R- Squared** Value for **Pre-lockdown model is 83.72%** where as the R-Squared Value for **Post-Lockdown model is 78.17%**\n",
    "\n",
    "The **PM10** concentration level prediction based on Pre-Lockdown model for Italy in June 6, 2020 and June 12, 2020 is 22.93$\\mu g/ m^3$ and 15.58$\\mu g/ m^3$ respectively\n",
    "\n",
    "The **PM10** concentration level prediction based on Post-Lockdown model for Italy in June 6, 2020 and June 12, 2020 is 24.44$\\mu g/ m^3$ and 17.37$\\mu g/ m^3$ respectively\n",
    "\n",
    "More precision is observed in this model\n",
    "\n",
    "R2 value is high and acceptable\n",
    "\n",
    "The predicted values for the model for individual particulates show values that are more grounded to reality despite low accuracy scores\n",
    "\n",
    "**ARIMA Model**\n",
    "\n",
    "Using ARIMA Model for Italy, we have concluded the Air Quality Concentration levels over a time series, and tried to predict the values for the next years. The data is observed to be stationary since the p-value is calculated less than 0.05 and the critical values are values are greater than test statistics value. Based on the data given for building this model, the RMSE value is observed to be close to 0 which depicts that the model is good in predicting the values of particulate matters in the future months\n",
    "\n",
    "The value prediction from ARIMA model and Multiple Linear Regression Model seems to be in the same range.\n",
    "For Example: Arima has predicted the values for PM10 in the range of 24$\\mu g/ m^3$ - 26$\\mu g/ m^3$ where as Multiple Linear Regression Model has predicted the values as 22.93$\\mu g/ m^3$ and 24.44$\\mu g/ m^3$ which are fairly close to each other"
   ]
  }
 ],
 "metadata": {
  "kernelspec": {
   "display_name": "Python 3",
   "language": "python",
   "name": "python3"
  },
  "language_info": {
   "codemirror_mode": {
    "name": "ipython",
    "version": 3
   },
   "file_extension": ".py",
   "mimetype": "text/x-python",
   "name": "python",
   "nbconvert_exporter": "python",
   "pygments_lexer": "ipython3",
   "version": "3.7.4"
  }
 },
 "nbformat": 4,
 "nbformat_minor": 4
}
